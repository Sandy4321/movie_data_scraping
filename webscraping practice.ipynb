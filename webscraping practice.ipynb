{
 "cells": [
  {
   "cell_type": "code",
   "execution_count": 4,
   "metadata": {
    "collapsed": true
   },
   "outputs": [],
   "source": [
    "import urllib2\n",
    "\n",
    "from bs4 import BeautifulSoup\n",
    "\n",
    "url = \"http://www.boxofficemojo.com/movies/?id=biglebowski.htm\"\n",
    "page = urllib2.urlopen(url)\n",
    "soup = BeautifulSoup(page)"
   ]
  },
  {
   "cell_type": "code",
   "execution_count": 5,
   "metadata": {
    "collapsed": false
   },
   "outputs": [
    {
     "name": "stdout",
     "output_type": "stream",
     "text": [
      "<!DOCTYPE html PUBLIC \"-//W3C//DTD HTML 4.01 Transitional//EN\" \"http://www.w3.org/TR/html4/loose.dtd\">\n",
      "\n",
      "<html lang=\"en\">\n",
      "<head>\n",
      "<meta content=\"text/html;charset=utf-8\" http-equiv=\"Content-type\">\n",
      "<title>The Big Lebowski (1998) - Box Office Mojo</title>\n",
      "<style type=\"text/css\">\n",
      "table.chart-wide { width: 100%; }\n",
      "</style>\n",
      "<meta content=\"the big lebowski, movie, film, box office, result, records, charts, revenue, opening weekend, gross, worldwide, overseas, foreign, news, reviews, articles, stories, story, analysis, revenue, release date, mpaa rating, genre, running time, length, budget, production budget, distributor, studio, gramercy, theatrical summary, theatrical, showtimes, tickets, show times, theaters, playing, weekend box office results, weekly box office, weekly box office, similar movies, box office mojo\" name=\"keywords\">\n",
      "<meta content=\"The Big Lebowski summary of box office results, charts and release information and related links.\" name=\"description\">\n",
      "<link charset=\"utf-8\" href=\"/css/mojo.css?1\" media=\"screen\" rel=\"stylesheet\" title=\"no title\" type=\"text/css\">\n",
      "<link charset=\"utf-8\" href=\"/css/mojo.css?1\" media=\"print\" rel=\"stylesheet\" title=\"no title\" type=\"text/css\">\n",
      "<script src=\"/js/jscharts.js\" type=\"text/javascript\"></script>\n",
      "</link></link></meta></meta></meta></head>\n",
      "<body>\n",
      "<iframe frameborder=\"0\" height=\"1\" id=\"sis_pixel_sitewide\" marginheight=\"0\" marginwidth=\"0\" style=\"display: none;\" width=\"1\"></iframe>\n",
      "<script>\n",
      "    setTimeout(function(){\n",
      "        try{\n",
      "            //sis3.0 pixel\n",
      "            var cacheBust = Math.random() * 10000000000000000,\n",
      "                url_sis3 = 'http://s.amazon-adsystem.com/iu3?',\n",
      "                params_sis3 = [\n",
      "                    \"d=boxofficemojo.com\",\n",
      "                    \"cb=\" + cacheBust\n",
      "                ];\n",
      "\n",
      "            (document.getElementById('sis_pixel_sitewide')).src = url_sis3 + params_sis3.join('&');\n",
      "        }catch(e){\n",
      "            if (window.ueLogError) { \n",
      "                window.ueLogError(e);\n",
      "            }\n",
      "        }\n",
      "    }, 5);\n",
      "</script>\n",
      "<div id=\"container\">\n",
      "<div>\n",
      "<!-- GOOGLE ANALYTICS CODE STARTS -->\n",
      "<script type=\"text/javascript\">\n",
      "\n",
      "  var _gaq = _gaq || [];\n",
      "  _gaq.push(['_setAccount', 'UA-2831726-1']);\n",
      "  _gaq.push(['_trackPageview']);\n",
      "\n",
      "  (function() {\n",
      "    var ga = document.createElement('script'); ga.type = 'text/javascript'; ga.async = true;\n",
      "    ga.src = ('https:' == document.location.protocol ? 'https://ssl' : 'http://www') + '.google-analytics.com/ga.js';\n",
      "    (document.getElementsByTagName('head')[0] || document.getElementsByTagName('body')[0]).appendChild(ga);\n",
      "  })();\n",
      "\n",
      "</script>\n",
      "<!-- GOOGLE ANALYTICS CODE ENDS -->\n",
      "<div id=\"hp_banner\">\n",
      "<div id=\"top_links\">\n",
      "<div style=\"float: left\"><a href=\"/goto.php?a=5\" target=\"4\"><font face=\"Verdana\" size=\"3\"><b>'Furious 7' hits $800 million worldwide... &gt;</b></font><br/></a><a href=\"/daily/chart/\">Daily Box Office (Sun.)</a> | <a href=\"/weekend/chart/\">Weekend Box Office (Apr. 10–12)</a> | <a href=\"/movies/?id=fast7.htm\">#1 Movie: 'Furious 7'</a> | <a href=\"http://www.imdb.com/showtimes/?ref_=mojo\">Showtimes</a></div>\n",
      "<div style=\"float: right\">Updated 4/12/2015 9:48 A.M. Pacific Time</div>\n",
      "<div style=\"clear:both; height: 0px\"></div>\n",
      "</div>\n",
      "</div>\n",
      "<div id=\"header\">\n",
      "<div id=\"leaderboard\"><!-- begin ad tag (tile=1) -->\n",
      "<script type=\"text/javascript\">\r\n",
      "//<![CDATA[\r\n",
      "ord=1869133139;\r\n",
      "document.write('<iframe src=\"http://ad.doubleclick.net/N4215/adi/imdb2.bom.movie/;p=t;tile=1;sz=728x90;oe=ISO-8859-1;ord=' + ord + '?\" width=\"728\" height=\"90\" marginwidth=\"0\" marginheight=\"0\" frameborder=\"0\" scrolling=\"no\">');\r\n",
      "\r\n",
      "if (navigator.userAgent.indexOf(\"Gecko\")==-1)\r\n",
      "{\r\n",
      "document.write('<script type=\"text/javascript\" src=\"http://ad.doubleclick.net/N4215/adj/imdb2.bom.movie/;p=t;tile=1;sz=728x90;abr=!ie;oe=ISO-8859-1;ord=' + ord + '?\"><\\/script>');\r\n",
      "}\r\n",
      "document.write('<\\/iframe>');\r\n",
      "//]]>\r\n",
      "</script>\n",
      "<noscript><a href=\"http://ad.doubleclick.net/N4215/jump/imdb2.bom.movie/;p=t;tile=1;sz=728x90;oe=ISO-8859-1;ord=1869133139?\" target=\"_blank\"><img alt=\"\" border=\"0\" src=\"http://ad.doubleclick.net/N4215/ad/imdb2.bom.movie/;p=t;tile=1;sz=728x90;oe=ISO-8859-1;ord=1869133139?\"/></a></noscript>\n",
      "<!-- end ad tag --></div> <div id=\"hp_logo\"><a href=\"/\"><img alt=\"Box Office Mojo\" height=\"56\" src=\"/img/misc/bom_logo1.png\" width=\"245\"/></a></div>\n",
      "<div style=\"clear:both; height: 0px\"></div>\n",
      "</div>\n",
      "</div>\n",
      "<div id=\"main\">\n",
      "<!-- COLUMN 1 of 4 -->\n",
      "<div id=\"leftnav\">\n",
      "<!-- google_ad_section_start(weight=ignore) -->\n",
      "<!-- <table id=\"navleft\" cellspacing=\"0\" cellpadding=\"2\" border=\"0\"> -->\n",
      "<ul id=\"leftnav\">\n",
      "<li class=\"nl_section\">Search Site</li>\n",
      "<li class=\"nl_link\" style=\"padding-left:0px\">\n",
      "<form action=\"/search/q.php\" method=\"POST\" name=\"searchbox\">\n",
      "<input name=\"q\" style=\"font-size: 9 pt; font-weight: bold; width: 90px;\" type=\"text\"><br>\n",
      "<input type=\"submit\" value=\"Search...\"/></br></input></form>\n",
      "</li>\n",
      "<li class=\"nl_section\">Social</li>\n",
      "<li class=\"nl_link\"><a href=\"http://facebook.com/boxofficemojo\" style=\"vertical-align:middle;\"><img alt=\"Facebook Logo\" border=\"0\" src=\"/images/FaceBook_16x16.png\">Facebook</img></a></li>\n",
      "<li class=\"nl_link\"><a href=\"http://twitter.com/boxofficemojo\" style=\"vertical-align:middle;\"><img alt=\"Twitter Logo\" border=\"0\" src=\"/images/Twitter_16x16.png\">Twitter</img></a></li>\n",
      "<li class=\"nl_section\">Features</li>\n",
      "<li class=\"nl_link\"><a href=\"/news/\">News</a></li>\n",
      "<li class=\"nl_link\"><a href=\"/schedule/\">Release Sched.</a></li>\n",
      "<li class=\"nl_link\"><a href=\"http://www.imdb.com/showtimes?ref_=mojo\">Showtimes<br/><span style=\"margin-left:7px;color: #999999; font-size: 9px;\">at <img src=\"/images/mojo_imdb_sm.png\"/></span></a></li>\n",
      "<li class=\"nl_section\">Box Office</li>\n",
      "<li class=\"nl_link\"><a href=\"/daily/\">Daily</a></li>\n",
      "<li class=\"nl_link\"><a href=\"/weekend/\">Weekend</a></li>\n",
      "<li class=\"nl_link\"><a href=\"/weekly/\">Weekly</a></li>\n",
      "<li class=\"nl_link\"><a href=\"/monthly/\">Monthly</a></li>\n",
      "<li class=\"nl_link\"><a href=\"/quarterly/\">Quarterly</a></li>\n",
      "<li class=\"nl_link\"><a href=\"/seasonal/\">Seasonal</a></li>\n",
      "<li class=\"nl_link\"><a href=\"/yearly/\">Yearly</a></li>\n",
      "<li class=\"nl_link\"><a href=\"/alltime/\">All Time</a></li>\n",
      "<li class=\"nl_link\"><a href=\"/chartwatch/\">Chart Watch</a></li>\n",
      "<li class=\"nl_link\"><a href=\"/intl/\">International</a></li>\n",
      "<li class=\"nl_section\">Indices</li>\n",
      "<li class=\"nl_link_current\"><a href=\"/movies/\">Movies A-Z</a></li>\n",
      "<li class=\"nl_link\"><a href=\"/studio/\">Studios</a></li>\n",
      "<li class=\"nl_link\"><a href=\"/people/\">People</a></li>\n",
      "<li class=\"nl_link\"><a href=\"/genres/\">Genres</a></li>\n",
      "<li class=\"nl_link\"><a href=\"/franchises/\">Franchises</a></li>\n",
      "<li class=\"nl_link\"><a href=\"/showdowns/\">Showdowns</a></li>\n",
      "<li class=\"nl_link\"><a href=\"/oscar/\">Oscar</a></li>\n",
      "<li class=\"nl_link\"><a href=\"/counts/\">Theater Counts</a></li>\n",
      "</ul>\n",
      "</div>\n",
      "<div id=\"body\">\n",
      "<table border=\"0\" cellspacing=\"0\" width=\"878px\">\n",
      "<tr>\n",
      "<td align=\"right\" style=\"whitespace:nowrap;\">\n",
      "<table border=\"0\" cellpadding=\"0\" cellspacing=\"0\">\n",
      "<tr>\n",
      "<form action=\"/adjuster.php\" method=\"POST\" name=\"adjuster\">\n",
      "<input name=\"returnURL\" type=\"hidden\" value=\"/movies/?id=biglebowski.htm\">\n",
      "<td valign=\"center\">\n",
      "<font face=\"Verdana\" size=\"2\"><a href=\"/about/adjuster.htm\"><b>Adjuster:</b></a></font>\n",
      "<select name=\"ticketyr\" size=\"1\" style=\"font-family: Verdana; font-size: 10pt\">\n",
      "<option selected=\"\" value=\"0\">Actuals</option>\n",
      "<option value=\"1\">Est. Tckts</option>\n",
      "<script language=\"javascript\">\r\n",
      "  for(i=2015; i>=1933; i--) {\r\n",
      "  \tdocument.write('<option value=\"' + i + '\"');\r\n",
      "\tif(i=='0') document.write(' selected');\r\n",
      "\tdocument.write('>' + i );\r\n",
      "\tif(i=='0') document.write(', $' + '0.00');\r\n",
      "\tdocument.write('</option>');\r\n",
      "  }\r\n",
      "</script>\n",
      "<option value=\"1929\">1929</option>\n",
      "<option value=\"1924\">1924</option>\n",
      "<option value=\"1910\">1910</option>\n",
      "</select><input name=\"Go\" style=\"font-size: 10pt; height: 22\" type=\"submit\" value=\"Go\">\n",
      "</input></td></input></form></tr></table>\n",
      "</td></tr>\n",
      "<!--------------------------Site Body---------------------------------->\n",
      "<tr></tr></table></div></div></div></body></html>\n",
      "<table border=\"0\" cellpadding=\"0\" cellspacing=\"0\" width=\"100%\">\n",
      "<tr> <td valign=\"top\">\n",
      "<table border=\"0\" cellpadding=\"0\" cellspacing=\"0\" style=\"padding-top: 5px;\" width=\"100%\"><tr><td align=\"center\" valign=\"top\">\n",
      "<img border=\"1\" src=\"http://www.boxofficemojo.com/images/biglebowski_poster.jpg\" style=\"border-color: 000000\">\n",
      "</img></td>\n",
      "<td align=\"center\" valign=\"top\"><br><font face=\"Verdana\" size=\"6\"><b>The Big Lebowski</b></font><br><br>\n",
      "<table border=\"0\" cellpadding=\"0\" cellspacing=\"0\"><tr><td>\n",
      "<center><table bgcolor=\"#dcdcdc\" border=\"0\" cellpadding=\"4\" cellspacing=\"1\" width=\"95%\"><tr bgcolor=\"#ffffff\"><td align=\"center\" colspan=\"2\"><font size=\"4\">Domestic Total Gross: <b>$17,451,873</b></font></td></tr><tr bgcolor=\"#ffffff\"><td valign=\"top\">Distributor: <b><a href=\"/studio/chart/?studio=gramercy.htm\">Gramercy</a></b></td><td valign=\"top\">Release Date: <b><nobr><a href=\"/schedule/?view=bydate&amp;release=theatrical&amp;date=1998-03-06&amp;p=.htm\">March 6, 1998</a></nobr></b></td></tr><tr bgcolor=\"#ffffff\"><td valign=\"top\">Genre: <b>Crime Comedy</b></td><td valign=\"top\">Runtime: <b>1 hrs. 57 min.</b></td></tr><tr bgcolor=\"#ffffff\"><td valign=\"top\">MPAA Rating: <b>R</b></td><td valign=\"top\">Production Budget: <b>N/A</b></td></tr></table><table border=\"0\" cellpadding=\"2\" cellspacing=\"0\" width=\"95%\">\n",
      "<form action=\"/showtimes/savelocation.php\" method=\"POST\" name=\"movietimesbox\">\n",
      "<input name=\"return\" type=\"hidden\" value=\"bymovie|biglebowski.htm\">\n",
      "<tr>\n",
      "<td nowrap=\"\" style=\"padding-top: 10px\">\n",
      "<a href=\"http://www.imdb.com/showtimes?ref_=mojo\"><img src=\"/images/mojo_imdb_med.png\" style=\"vertical-align:middle\"/></a> <a href=\"http://www.imdb.com/showtimes?ref_=mojo\">Get local showtimes at IMDb</a>\n",
      "</td></tr></input></form></table>\n",
      "</center></td>\n",
      "</tr></table></br></br></br></td>\n",
      "<td align=\"right\"><!-- begin ad tag (tile=2) -->\n",
      "<script type=\"text/javascript\">\r\n",
      "//<![CDATA[\r\n",
      "ord=1869133139;\r\n",
      "document.write('<iframe src=\"http://ad.doubleclick.net/N4215/adi/imdb2.bom.movie/;p=rh;tile=2;sz=300x250;oe=ISO-8859-1;ord=' + ord + '?\" width=\"300\" height=\"250\" marginwidth=\"0\" marginheight=\"0\" frameborder=\"0\" scrolling=\"no\">');\r\n",
      "\r\n",
      "if (navigator.userAgent.indexOf(\"Gecko\")==-1)\r\n",
      "{\r\n",
      "document.write('<script type=\"text/javascript\" src=\"http://ad.doubleclick.net/N4215/adj/imdb2.bom.movie/;p=rh;tile=2;sz=300x250;abr=!ie;oe=ISO-8859-1;ord=' + ord + '?\"><\\/script>');\r\n",
      "}\r\n",
      "document.write('</iframe>');\r\n",
      "//]]>\r\n",
      "</script>\n",
      "<noscript><a href=\"http://ad.doubleclick.net/N4215/jump/imdb2.bom.movie/;p=rh;tile=2;sz=300x250;oe=ISO-8859-1;ord=1869133139?\" target=\"_blank\"><img alt=\"\" border=\"0\" src=\"http://ad.doubleclick.net/N4215/ad/imdb2.bom.2/;p=rh;tile=2;sz=300x250;oe=ISO-8859-1;ord=1869133139?\"/></a></noscript>\n",
      "<!-- end ad tag --></td>\n",
      "</tr>\n",
      "</table>\n",
      "<table border=\"0\" cellpadding=\"0\" cellspacing=\"0\" width=\"878px\">\n",
      "<tr><td>\n",
      "<ul class=\"nav_tabs\">\n",
      "<li class=\"nav_tab_current\"><a href=\"/movies/?page=main&amp;id=biglebowski.htm\">Summary</a></li>\n",
      "<li><a href=\"/movies/?page=weekend&amp;id=biglebowski.htm\">Weekend</a></li>\n",
      "<li><a href=\"/movies/?page=weekly&amp;id=biglebowski.htm\">Weekly</a></li>\n",
      "<li><a href=\"/movies/?page=similar&amp;id=biglebowski.htm\">Similar Movies</a></li>\n",
      "</ul>\n",
      "<br/>\n",
      "</td></tr>\n",
      "<tr><td>\n",
      "<table border=\"0\" cellpadding=\"0\" cellspacing=\"0\" width=\"100%\">\n",
      "<tr><td valign=\"top\" width=\"434px\">\n",
      "<table border=\"0\" cellpadding=\"0\" cellspacing=\"0\" width=\"100%\"><tr>\n",
      "<td valign=\"top\" width=\"50%\">\n",
      "<div class=\"mp_box\">\n",
      "<div class=\"mp_box_tab\">Total Lifetime Grosses</div></div></td></tr></table></td></tr></table></td></tr></table></td></tr></table>\n",
      "<div class=\"mp_box_content\">\n",
      "<table border=\"0\" cellpadding=\"0\" cellspacing=\"0\">\n",
      "<tr>\n",
      "<td width=\"40%\"><b>Domestic:</b></td>\n",
      "<td align=\"right\" width=\"35%\"> <b>$17,451,873</b></td>\n",
      "</tr>\n",
      "</table>\n",
      "</div>\n",
      "\n",
      "<div class=\"mp_box\">\n",
      "<div class=\"mp_box_tab\">Domestic Summary</div></div>\n",
      "<div class=\"mp_box_content\">\n",
      "<table border=\"0\" cellpadding=\"0\" cellspacing=\"0\">\n",
      "<tr>\n",
      "<td align=\"center\"><a href=\"/weekend/chart/?yr=1998&amp;wknd=10&amp;p=.htm\">Opening Weekend:</a></td><td> $5,533,844</td></tr>\n",
      "<tr>\n",
      "<td align=\"center\" colspan=\"2\"><font size=\"2\">(#6 rank, 1,207 theaters, $4,585 average)</font></td></tr>\n",
      "<tr>\n",
      "<td align=\"right\">% of Total Gross:</td><td> 31.7%</td></tr>\n",
      "<tr><td align=\"right\" colspan=\"2\"><font face=\"Helvetica, Arial, Sans-Serif\" size=\"1\"><a href=\"/movies/?page=weekend&amp;id=biglebowski.htm\"><b>&gt; View All 4 Weekends</b></a></font></td></tr>\n",
      "</table>\n",
      "<table border=\"0\" cellpadding=\"0\" cellspacing=\"0\">\n",
      "<tr>\n",
      "<td>Widest Release:</td>\n",
      "<td> 1,235 theaters</td>\n",
      "</tr>\n",
      "</table>\n",
      "</div>\n",
      "\n",
      "\n",
      "<td style=\"padding-left: 10px;\" valign=\"top\"><div class=\"mp_box\">\n",
      "<div class=\"mp_box_tab\">The Players</div>\n",
      "<div class=\"mp_box_content\">\n",
      "<table>\n",
      "</table></div></div></td><tr><td align=\"right\" valign=\"top\"><font size=\"2\"><a href=\"/people/?view=Director&amp;p=.htm\">Director:</a></font></td></tr><td><font size=\"2\"><a href=\"/people/chart/?view=Director&amp;id=joelcoen.htm\">Joel Coen</a></font></td><tr><td align=\"right\" valign=\"top\"><font size=\"2\"><a href=\"/people/?view=Writer&amp;p=.htm\">Writers:</a></font></td></tr><td><font size=\"2\"><a href=\"/people/chart/?view=Writer&amp;id=ethancoen.htm\">Ethan Coen</a><br><a href=\"/people/chart/?view=Writer&amp;id=joelcoen.htm\">Joel Coen</a></br></font></td><tr><td align=\"right\" valign=\"top\"><font size=\"2\"><a href=\"/people/?view=Actor&amp;p=.htm\">Actors:</a></font></td></tr><td><font size=\"2\"><a href=\"/people/chart/?view=Actor&amp;id=jeffbridges.htm\">Jeff Bridges</a><br>John Goodman<br><a href=\"/people/chart/?view=Actor&amp;id=juliannemoore.htm\">Julianne Moore</a><br>Steve Buscemi<br><a href=\"/people/chart/?view=Actor&amp;id=philipseymourhoffman.htm\">Philip Seymour Hoffman</a><br>Tara Reid<br><a href=\"/people/chart/?view=Actor&amp;id=samelliott.htm\">Sam Elliott*</a> <font size=\"2\">(Narrator)</font></br></br></br></br></br></br></font></td><tr><td align=\"right\" valign=\"top\"><font size=\"2\"><a href=\"/people/?view=Producer&amp;p=.htm\">Producers:</a></font></td></tr><td><font size=\"2\"><a href=\"/people/chart/?view=Producer&amp;id=timbevan.htm\">Tim Bevan</a> <font size=\"2\">(executive producer)</font><br><a href=\"/people/chart/?view=Producer&amp;id=ethancoen.htm\">Ethan Coen</a><br><a href=\"/people/chart/?view=Producer&amp;id=ericfellner.htm\">Eric Fellner</a> <font size=\"2\">(executive producer)</font></br></br></font></td><tr><td align=\"right\" valign=\"top\"><font size=\"2\"><a href=\"/people/?view=Cinematographer&amp;p=.htm\"><font size=\"2\">Cinematographer</font>:</a></font></td></tr><td><font size=\"2\"><a href=\"/people/chart/?view=Cinematographer&amp;id=rogerdeakins.htm\">Roger Deakins</a></font></td><tr><td align=\"right\" valign=\"top\"><font size=\"2\"><a href=\"/people/?view=Composer&amp;p=.htm\">Composer:</a></font></td></tr><td><font size=\"2\"><a href=\"/people/chart/?view=Composer&amp;id=carterburwell.htm\">Carter Burwell</a></font></td><tr><td align=\"right\" colspan=\"2\"><i><small>* Denotes minor role</small></i></td></tr>\n",
      "\n",
      "<div class=\"mp_box\">\n",
      "<div class=\"mp_box_tab\">Genres</div>\n",
      "<div class=\"mp_box_content\">\n",
      "<table border=\"0\" cellpadding=\"5\" cellspacing=\"1\" style=\"border-collapse: collapse\" width=\"100%\">\n",
      "<tr><th>Genre</th>\n",
      "<th>Rank</th></tr>\n",
      "<tr bgcolor=\"#ffffff\"><td><font size=\"2\"><a href=\"/genres/chart/?id=blackcomedy.htm\">Comedy - Dark/Black</a></font></td>\n",
      "<td align=\"center\"><font size=\"2\">30</font></td>\n",
      "</tr>\n",
      "<tr bgcolor=\"#f4f4ff\"><td><font size=\"2\"><a href=\"/genres/chart/?id=slackerstoner.htm\">Slacker / Stoner</a></font></td>\n",
      "<td align=\"center\"><font size=\"2\">35</font></td>\n",
      "</tr>\n",
      "</table></div></div><div class=\"mp_box\">\n",
      "<div class=\"mp_box_tab\">Charts</div>\n",
      "<div class=\"mp_box_content\">\n",
      "<table border=\"0\" cellpadding=\"5\" cellspacing=\"1\" style=\"border-collapse: collapse\" width=\"100%\">\n",
      "<tr><td bgcolor=\"\"><b>Chart</b></td>\n",
      "<td align=\"center\"><b>Rank</b></td>\n",
      "</tr>\n",
      "<tr bgcolor=\"#ffffff\"><td><font size=\"2\"><a href=\"/alltime/domestic.htm\">All Time Domestic</a></font></td>\n",
      "<td align=\"center\"><font size=\"2\">3,270</font></td>\n",
      "</tr>\n",
      "<tr bgcolor=\"#f4f4ff\"><td><font size=\"2\"><a href=\"/yearly/chart/?yr=1998&amp;p=.htm\">Yearly 1998</a></font></td>\n",
      "<td align=\"center\"><font size=\"2\">96</font></td>\n",
      "</tr>\n",
      "<tr bgcolor=\"#ffffff\"><td><font size=\"2\"><a href=\"/yearly/chart/?view2=releasedate&amp;view=opening&amp;yr=1998&amp;p=.htm\">Yearly Opening Weekends 1998</a></font></td>\n",
      "<td align=\"center\"><font size=\"2\">88</font></td>\n",
      "</tr>\n",
      "<tr bgcolor=\"#f4f4ff\"><td><font size=\"2\"><a href=\"/yearly/chart/mpaarating.htm?rating=R&amp;yr=1998&amp;p=.htm\">Yearly R Rated 1998</a></font></td>\n",
      "<td align=\"center\"><font size=\"2\">41</font></td>\n",
      "</tr>\n",
      "<tr bgcolor=\"#ffffff\"><td><font size=\"2\"><a href=\"/alltime/openingweeks.htm\">Opening Weeks</a></font></td>\n",
      "<td align=\"center\"><font size=\"2\">2,737</font></td>\n",
      "</tr>\n",
      "<tr bgcolor=\"#f4f4ff\"><td><font size=\"2\"><a href=\"/alltime/weekends/\">Opening Weekends</a></font></td>\n",
      "<td align=\"center\"><font size=\"2\">2,656</font></td>\n",
      "</tr>\n",
      "<tr bgcolor=\"#ffffff\"><td><font size=\"2\"><a href=\"/alltime/weekends/smallestdrops.htm?page=SMALLDROPWID&amp;p=.htm\">Smallest Drops, All Wide Releases</a></font></td>\n",
      "<td align=\"center\"><font size=\"2\">1,543</font></td>\n",
      "</tr>\n",
      "<tr bgcolor=\"#f4f4ff\"><td><font size=\"2\">BOM Users' Grades (1998 Releases)</font></td>\n",
      "<td align=\"center\"><font size=\"2\">15</font></td>\n",
      "</tr>\n",
      "<tr><td><b>Charts (Premier Pass Users Only)</b></td><td align=\"center\"><b>Rank</b></td></tr><tr bgcolor=\"#ffffff\"><td><font size=\"2\"><a href=\"/alltime/domestic.htm?page=14&amp;asof=1998-04-10&amp;p=.htm\">Highest All Time Rank (on April 10, 1998)</a></font></td>\n",
      "<td align=\"center\"><font size=\"2\">1364</font></td>\n",
      "</tr>\n",
      "<tr bgcolor=\"#f4f4ff\"><td><font size=\"2\"><a href=\"/yearly/chart/?view2=wide&amp;view=domestic&amp;yr=1998&amp;p=.htm\">Yearly (Wide) 1998</a></font></td>\n",
      "<td align=\"center\"><font size=\"2\">90</font></td>\n",
      "</tr>\n",
      "<tr bgcolor=\"#ffffff\"><td><font size=\"2\"><a href=\"/yearly/chart/?view2=opening&amp;yr=1998&amp;p=.htm\">Yearly Opening Weekends (Wide) 1998</a></font></td>\n",
      "<td align=\"center\"><font size=\"2\">91</font></td>\n",
      "</tr>\n",
      "<tr bgcolor=\"#f4f4ff\"><td><font size=\"2\"><a href=\"/alltime/openingweeks.htm?adjust_yr=2015&amp;p=.htm\">Opening Weeks Adjusted</a></font></td>\n",
      "<td align=\"center\"><font size=\"2\">2,605</font></td>\n",
      "</tr>\n",
      "<tr bgcolor=\"#ffffff\"><td><font size=\"2\"><a href=\"/alltime/weekends/?adjust_yr=2015&amp;p=.htm\">Opening Weekends Adjusted</a></font></td>\n",
      "<td align=\"center\"><font size=\"2\">2,539</font></td>\n",
      "</tr>\n",
      "</table></div></div>\n",
      "\n",
      "<td width=\"10px\"> </td>\n",
      "<td valign=\"top\" width=\"434px\">\n",
      "<div class=\"mp_box\">\n",
      "<div class=\"mp_box_tab\">Related Stories</div>\n",
      "<div class=\"mp_box_content\"><table border=\"0\" cellpadding=\"5\" cellspacing=\"0\" width=\"100%\"><tr bgcolor=\"#ffff99\"><td><font size=\"2\"><a href=\"/news/?id=2680&amp;p=.htm\">2/11/10 2010 Preview: True Grit</a></font></td></tr></table></div></div> <div class=\"mp_box\">\n",
      "<div class=\"mp_box_tab\">Related Products</div>\n",
      "<div class=\"mp_box_content\"><ul>\n",
      "<li><a href=\"http://www.amazon.com/gp/product/B000A7DVR2?ie=UTF8&amp;tag=boxofficemojo-20&amp;linkCode=as2&amp;camp=1789&amp;creative=9325&amp;creativeASIN=B000A7DVR2\">The Big Lebowski (Collector's Edition)</a><img alt=\"\" border=\"0\" height=\"1\" src=\"http://www.assoc-amazon.com/e/ir?t=boxofficemojo-20&amp;l=as2&amp;o=1&amp;a=B000A7DVR2\" style=\"border:none !important; margin:0px !important;\" width=\"1\"/></li>\n",
      "<li><a href=\"http://www.amazon.com/gp/product/B000A7DVY0?ie=UTF8&amp;tag=boxofficemojo-20&amp;linkCode=as2&amp;camp=1789&amp;creative=9325&amp;creativeASIN=B000A7DVY0\">The Big Lebowski - Achiever's Edition</a><img alt=\"\" border=\"0\" height=\"1\" src=\"http://www.assoc-amazon.com/e/ir?t=boxofficemojo-20&amp;l=as2&amp;o=1&amp;a=B000A7DVY0\" style=\"border:none !important; margin:0px !important;\" width=\"1\"/></li>\n",
      "<li><a href=\"http://www.amazon.com/gp/product/B000ASATSU?ie=UTF8&amp;tag=boxofficemojo-20&amp;linkCode=as2&amp;camp=1789&amp;creative=9325&amp;creativeASIN=B000ASATSU\">The Coen Brothers Collection</a><img alt=\"\" border=\"0\" height=\"1\" src=\"http://www.assoc-amazon.com/e/ir?t=boxofficemojo-20&amp;l=as2&amp;o=1&amp;a=B000ASATSU\" style=\"border:none !important; margin:0px !important;\" width=\"1\"/></li>\n",
      "<li><a href=\"http://www.amazon.com/gp/product/B000O179EK?ie=UTF8&amp;tag=boxofficemojo-20&amp;linkCode=as2&amp;camp=1789&amp;creative=9325&amp;creativeASIN=B000O179EK\">The Big Lebowski (HD-DVD)</a><img alt=\"\" border=\"0\" height=\"1\" src=\"http://www.assoc-amazon.com/e/ir?t=boxofficemojo-20&amp;l=as2&amp;o=1&amp;a=B000O179EK\" style=\"border:none !important; margin:0px !important;\" width=\"1\"/></li>\n",
      "<li><a href=\"http://www.amazon.com/gp/product/B000O179EK?ie=UTF8&amp;tag=boxofficemojo-20&amp;linkCode=as2&amp;camp=1789&amp;creative=9325&amp;creativeASIN=B000O179EK\">The Big Lebowski (HD-DVD)</a><img alt=\"\" border=\"0\" height=\"1\" src=\"http://www.assoc-amazon.com/e/ir?t=boxofficemojo-20&amp;l=as2&amp;o=1&amp;a=B000O179EK\" style=\"border:none !important; margin:0px !important;\" width=\"1\"/></li>\n",
      "<li><a href=\"http://www.amazon.com/gp/product/B001AEF6CW?ie=UTF8&amp;tag=boxofficemojo-20&amp;linkCode=as2&amp;camp=1789&amp;creative=9325&amp;creativeASIN=B001AEF6CW\">The Big Lebowski (10th Anniv. Limited Edition)</a><img alt=\"\" border=\"0\" height=\"1\" src=\"http://www.assoc-amazon.com/e/ir?t=boxofficemojo-20&amp;l=as2&amp;o=1&amp;a=B001AEF6CW\" style=\"border:none !important; margin:0px !important;\" width=\"1\"/></li>\n",
      "<li><a href=\"http://www.amazon.com/gp/product/B001AEF6D6?ie=UTF8&amp;tag=boxofficemojo-20&amp;linkCode=as2&amp;camp=1789&amp;creative=9325&amp;creativeASIN=B001AEF6D6\">The Big Lebowski (10th Anniv. Edition)</a><img alt=\"\" border=\"0\" height=\"1\" src=\"http://www.assoc-amazon.com/e/ir?t=boxofficemojo-20&amp;l=as2&amp;o=1&amp;a=B001AEF6D6\" style=\"border:none !important; margin:0px !important;\" width=\"1\"/></li>\n",
      "</ul></div></div> <object classid=\"clsid:D27CDB6E-AE6D-11cf-96B8-444553540000\" codebase=\"http://fpdownload.macromedia.com/get/flashplayer/current/swflash.cab\" height=\"150px\" id=\"Player_82160f42-9620-4d0a-b79a-18b1abd853fb\" width=\"400px\"> <param name=\"movie\" value=\"http://ws.amazon.com/widgets/q?ServiceVersion=20070822&amp;MarketPlace=US&amp;ID=V20070822%2FUS%2Fboxofficemojo-20%2F8010%2F82160f42-9620-4d0a-b79a-18b1abd853fb&amp;Operation=GetDisplayTemplate\"><param name=\"quality\" value=\"high\"><param name=\"bgcolor\" value=\"#FFFFFF\"><param name=\"allowscriptaccess\" value=\"always\"><embed align=\"middle\" allowscriptaccess=\"always\" bgcolor=\"#ffffff\" height=\"150px\" id=\"Player_82160f42-9620-4d0a-b79a-18b1abd853fb\" name=\"Player_82160f42-9620-4d0a-b79a-18b1abd853fb\" quality=\"high\" src=\"http://ws.amazon.com/widgets/q?ServiceVersion=20070822&amp;MarketPlace=US&amp;ID=V20070822%2FUS%2Fboxofficemojo-20%2F8010%2F82160f42-9620-4d0a-b79a-18b1abd853fb&amp;Operation=GetDisplayTemplate\" type=\"application/x-shockwave-flash\" width=\"400px\"></embed></param></param></param></param></object> <noscript><a href=\"http://ws.amazon.com/widgets/q?ServiceVersion=20070822&amp;MarketPlace=US&amp;ID=V20070822%2FUS%2Fboxofficemojo-20%2F8010%2F82160f42-9620-4d0a-b79a-18b1abd853fb&amp;Operation=NoScript\">Amazon.com Widgets</a></noscript>\n",
      "</td>\n",
      "\n",
      "\n",
      "<br>\n",
      "</br>\n",
      "\n",
      "\n",
      "\n",
      "\n",
      "\n",
      "<div id=\"hp_footer\">\n",
      "<div style=\"padding-bottom: 20px;\">\n",
      "<div style=\"margin: 0px 121px; vertical-align: top;\">\n",
      "<div id=\"footer_links\">\n",
      "<ul class=\"footer_link_list\">\n",
      "<li><strong>Latest Updates</strong></li>\n",
      "<li><a href=\"/news/?ref=ft\">Movie News</a>\n",
      "<li><a href=\"/daily/chart/?ref=ft\">Daily Chart</a></li>\n",
      "<li><a href=\"/weekend/chart/?ref=ft\">Weekend Chart</a></li>\n",
      "<li><a href=\"/alltime/?ref=ft\">All Time Charts</a></li>\n",
      "<li><a href=\"/intl/?ref=ft\">International Charts</a></li>\n",
      "</li></ul>\n",
      "<!--\n",
      "\t\t\t\t\t<ul class=\"footer_link_list\">\n",
      "\t\t\t\t\t\t<li><strong>Popular Movies</strong></li>\n",
      "\t\t\t\t\t\t\t\t\t\t\t</ul>\n",
      "\t\t\t\t\t-->\n",
      "<ul class=\"footer_link_list\">\n",
      "<li><strong>Indices</strong></li>\n",
      "<li><a href=\"/movies/?ref=ft\">Movies A-Z</a></li>\n",
      "<li><a href=\"/people/?ref=ft\">People</a></li>\n",
      "<li><a href=\"/genres/?ref=ft\">Genres</a></li>\n",
      "<li><a href=\"/franchises/?ref=ft\">Franchises</a></li>\n",
      "<li><a href=\"/showdowns/?ref=ft\">Showdowns</a></li>\n",
      "</ul>\n",
      "<ul class=\"footer_link_list\">\n",
      "<li><strong>Other</strong></li>\n",
      "<li><a href=\"/about/?ref=ft\">About This Site</a></li>\n",
      "<li><a href=\"/about/advertise.htm?ref=ft\">Advertising</a></li>\n",
      "<li><a href=\"/users/?ref=ft\">My Account</a></li>\n",
      "<li><a href=\"/about/rss.htm?ref=ft\">RSS Feeds</a></li>\n",
      "</ul>\n",
      "</div>\n",
      "<div id=\"copyright\">\n",
      "<a href=\"/?ref=ft\"><img alt=\"Box Office Mojo\" height=\"56\" src=\"/img/misc/bom_logo1.png\" width=\"245\"/></a><br>\n",
      "<p>An <a href=\"http://imdb.com/\"><img alt=\"IMDb\" height=\"16\" src=\"/img/misc/IMDbSm.png\" valign=\"middle\" width=\"34\"/></a> company<br><br/></br></p>\n",
      "<p>© <a href=\"http://imdb.com/\">IMDb.com</a>, Inc. or its affiliates. All rights reserved. Box Office Mojo and IMDb are trademarks or registered trademarks of IMDb.com, Inc. or its affiliates. <a href=\"/about/termsofuse.htm\">Terms of Use</a> and <a href=\"/about/privacy.htm\">Privacy Policy</a> under which this service is provided to you.</p>\n",
      "</br></div>\n",
      "</div>\n",
      "<div style=\"clear:both;\">\n",
      "<div>\n",
      "<!-- begin ad tag (tile=6) -->\n",
      "<script type=\"text/javascript\">\r\n",
      "//<![CDATA[\r\n",
      "ord=1869133139;\r\n",
      "document.write('<iframe src=\"http://ad.doubleclick.net/N4215/adi/imdb2.bom.movie/;p=b;tile=3;sz=728x90;oe=ISO-8859-1;ord=' + ord + '?\" width=\"728\" height=\"90\" marginwidth=\"0\" marginheight=\"0\" frameborder=\"0\" scrolling=\"no\">');\r\n",
      "\r\n",
      "if (navigator.userAgent.indexOf(\"Gecko\")==-1)\r\n",
      "{\r\n",
      "document.write('<script type=\"text/javascript\" src=\"http://ad.doubleclick.net/N4215/adj/imdb2.bom.movie/;p=b;tile=3;sz=728x90;abr=!ie;oe=ISO-8859-1;ord=' + ord + '?\"><\\/script>');\r\n",
      "}\r\n",
      "document.write('<\\/iframe>');\r\n",
      "//]]>\r\n",
      "</script>\n",
      "<noscript><a href=\"http://ad.doubleclick.net/N4215/jump/imdb2.bom.movie/;p=b;tile=3;sz=728x90;oe=ISO-8859-1;ord=1869133139?\" target=\"_blank\"><img alt=\"\" border=\"0\" src=\"http://ad.doubleclick.net/N4215/ad/imdb2.bom.movie/;p=b;tile=3;sz=728x90;oe=ISO-8859-1;ord=1869133139?\"/></a></noscript>\n",
      "<!-- end ad tag --></div>\n",
      "</div>\n",
      "</div>\n",
      "</div>\n",
      "<!-- Page generated in 0.05 seconds | . -->\n",
      "<script>\n",
      "  var _comscore = _comscore || [];\n",
      "  _comscore.push({ c1: \"2\", c2: \"6034961\" });\n",
      "  (function() {\n",
      "    var s = document.createElement(\"script\"), el = document.getElementsByTagName(\"script\")[0]; s.async = true;\n",
      "    s.src = (document.location.protocol == \"https:\" ? \"https://sb\" : \"http://b\") + \".scorecardresearch.com/beacon.js\";\n",
      "  el.parentNode.insertBefore(s, el);\n",
      "  })();\n",
      "</script>\n",
      "<noscript>\n",
      "<img src=\"http://b.scorecardresearch.com/p?c1=2&amp;c2=6034961&amp;cv=2.0&amp;cj=1\"/>\n",
      "</noscript>\n",
      "\n",
      "\n",
      "\n"
     ]
    }
   ],
   "source": [
    "#print soup"
   ]
  },
  {
   "cell_type": "code",
   "execution_count": 7,
   "metadata": {
    "collapsed": false
   },
   "outputs": [
    {
     "name": "stdout",
     "output_type": "stream",
     "text": [
      "<a href=\"/goto.php?a=5\" target=\"4\"><font face=\"Verdana\" size=\"3\"><b>'Furious 7' hits $800 million worldwide... &gt;</b></font><br/></a>\n"
     ]
    }
   ],
   "source": [
    "print soup.find('a')"
   ]
  },
  {
   "cell_type": "code",
   "execution_count": 9,
   "metadata": {
    "collapsed": false
   },
   "outputs": [
    {
     "name": "stdout",
     "output_type": "stream",
     "text": [
      "<a href=\"/goto.php?a=5\" target=\"4\"><font face=\"Verdana\" size=\"3\"><b>'Furious 7' hits $800 million worldwide... &gt;</b></font><br/></a>\n"
     ]
    }
   ],
   "source": [
    "print soup.a"
   ]
  },
  {
   "cell_type": "code",
   "execution_count": 11,
   "metadata": {
    "collapsed": false
   },
   "outputs": [
    {
     "name": "stdout",
     "output_type": "stream",
     "text": [
      "<a href=\"/goto.php?a=5\" target=\"4\">\n",
      " <font face=\"Verdana\" size=\"3\">\n",
      "  <b>\n",
      "   'Furious 7' hits $800 million worldwide... &gt;\n",
      "  </b>\n",
      " </font>\n",
      " <br/>\n",
      "</a>\n",
      "\n"
     ]
    }
   ],
   "source": [
    "print soup.a.prettify()"
   ]
  },
  {
   "cell_type": "code",
   "execution_count": 15,
   "metadata": {
    "collapsed": false
   },
   "outputs": [
    {
     "name": "stdout",
     "output_type": "stream",
     "text": [
      "<a href=\"/goto.php?a=5\" target=\"4\"><font face=\"Verdana\" size=\"3\"><b>'Furious 7' hits $800 million worldwide... &gt;</b></font><br/></a>\n",
      "/goto.php?a=5\n"
     ]
    }
   ],
   "source": [
    "print soup.find('a')\n",
    "print soup.find('a')['href']"
   ]
  },
  {
   "cell_type": "code",
   "execution_count": 20,
   "metadata": {
    "collapsed": false
   },
   "outputs": [
    {
     "data": {
      "text/plain": [
       "[<td width=\"40%\"><b>Domestic:</b></td>,\n",
       " <td align=\"right\" width=\"35%\"> <b>$17,451,873</b></td>]"
      ]
     },
     "execution_count": 20,
     "metadata": {},
     "output_type": "execute_result"
    }
   ],
   "source": [
    "soup.find(class_=\"mp_box_content\").find_all('td')\n"
   ]
  },
  {
   "cell_type": "code",
   "execution_count": 22,
   "metadata": {
    "collapsed": false
   },
   "outputs": [
    {
     "data": {
      "text/plain": [
       "<div id=\"hp_footer\">\n",
       "<div style=\"padding-bottom: 20px;\">\n",
       "<div style=\"margin: 0px 121px; vertical-align: top;\">\n",
       "<div id=\"footer_links\">\n",
       "<ul class=\"footer_link_list\">\n",
       "<li><strong>Latest Updates</strong></li>\n",
       "<li><a href=\"/news/?ref=ft\">Movie News</a>\n",
       "<li><a href=\"/daily/chart/?ref=ft\">Daily Chart</a></li>\n",
       "<li><a href=\"/weekend/chart/?ref=ft\">Weekend Chart</a></li>\n",
       "<li><a href=\"/alltime/?ref=ft\">All Time Charts</a></li>\n",
       "<li><a href=\"/intl/?ref=ft\">International Charts</a></li>\n",
       "</li></ul>\n",
       "<!--\n",
       "\t\t\t\t\t<ul class=\"footer_link_list\">\n",
       "\t\t\t\t\t\t<li><strong>Popular Movies</strong></li>\n",
       "\t\t\t\t\t\t\t\t\t\t\t</ul>\n",
       "\t\t\t\t\t-->\n",
       "<ul class=\"footer_link_list\">\n",
       "<li><strong>Indices</strong></li>\n",
       "<li><a href=\"/movies/?ref=ft\">Movies A-Z</a></li>\n",
       "<li><a href=\"/people/?ref=ft\">People</a></li>\n",
       "<li><a href=\"/genres/?ref=ft\">Genres</a></li>\n",
       "<li><a href=\"/franchises/?ref=ft\">Franchises</a></li>\n",
       "<li><a href=\"/showdowns/?ref=ft\">Showdowns</a></li>\n",
       "</ul>\n",
       "<ul class=\"footer_link_list\">\n",
       "<li><strong>Other</strong></li>\n",
       "<li><a href=\"/about/?ref=ft\">About This Site</a></li>\n",
       "<li><a href=\"/about/advertise.htm?ref=ft\">Advertising</a></li>\n",
       "<li><a href=\"/users/?ref=ft\">My Account</a></li>\n",
       "<li><a href=\"/about/rss.htm?ref=ft\">RSS Feeds</a></li>\n",
       "</ul>\n",
       "</div>\n",
       "<div id=\"copyright\">\n",
       "<a href=\"/?ref=ft\"><img alt=\"Box Office Mojo\" height=\"56\" src=\"/img/misc/bom_logo1.png\" width=\"245\"/></a><br>\n",
       "<p>An <a href=\"http://imdb.com/\"><img alt=\"IMDb\" height=\"16\" src=\"/img/misc/IMDbSm.png\" valign=\"middle\" width=\"34\"/></a> company<br><br/></br></p>\n",
       "<p>© <a href=\"http://imdb.com/\">IMDb.com</a>, Inc. or its affiliates. All rights reserved. Box Office Mojo and IMDb are trademarks or registered trademarks of IMDb.com, Inc. or its affiliates. <a href=\"/about/termsofuse.htm\">Terms of Use</a> and <a href=\"/about/privacy.htm\">Privacy Policy</a> under which this service is provided to you.</p>\n",
       "</br></div>\n",
       "</div>\n",
       "<div style=\"clear:both;\">\n",
       "<div>\n",
       "<!-- begin ad tag (tile=6) -->\n",
       "<script type=\"text/javascript\">\n",
       "//<![CDATA[\n",
       "ord=1869133139;\n",
       "document.write('<iframe src=\"http://ad.doubleclick.net/N4215/adi/imdb2.bom.movie/;p=b;tile=3;sz=728x90;oe=ISO-8859-1;ord=' + ord + '?\" width=\"728\" height=\"90\" marginwidth=\"0\" marginheight=\"0\" frameborder=\"0\" scrolling=\"no\">');\n",
       "\n",
       "if (navigator.userAgent.indexOf(\"Gecko\")==-1)\n",
       "{\n",
       "document.write('<script type=\"text/javascript\" src=\"http://ad.doubleclick.net/N4215/adj/imdb2.bom.movie/;p=b;tile=3;sz=728x90;abr=!ie;oe=ISO-8859-1;ord=' + ord + '?\"><\\/script>');\n",
       "}\n",
       "document.write('<\\/iframe>');\n",
       "//]]>\n",
       "</script>\n",
       "<noscript><a href=\"http://ad.doubleclick.net/N4215/jump/imdb2.bom.movie/;p=b;tile=3;sz=728x90;oe=ISO-8859-1;ord=1869133139?\" target=\"_blank\"><img alt=\"\" border=\"0\" src=\"http://ad.doubleclick.net/N4215/ad/imdb2.bom.movie/;p=b;tile=3;sz=728x90;oe=ISO-8859-1;ord=1869133139?\"/></a></noscript>\n",
       "<!-- end ad tag --></div>\n",
       "</div>\n",
       "</div>\n",
       "</div>"
      ]
     },
     "execution_count": 22,
     "metadata": {},
     "output_type": "execute_result"
    }
   ],
   "source": [
    "soup.find(id=\"hp_footer\")"
   ]
  },
  {
   "cell_type": "markdown",
   "metadata": {},
   "source": [
    "##scraping title, domestic gross, release date, runtime, rating in each movie"
   ]
  },
  {
   "cell_type": "code",
   "execution_count": 42,
   "metadata": {
    "collapsed": false
   },
   "outputs": [],
   "source": [
    "title_string = soup.find('title').text"
   ]
  },
  {
   "cell_type": "code",
   "execution_count": 32,
   "metadata": {
    "collapsed": false
   },
   "outputs": [
    {
     "name": "stdout",
     "output_type": "stream",
     "text": [
      "The Big Lebowski (1998) - Box Office Mojo\n",
      "The Big Lebowski\n"
     ]
    }
   ],
   "source": [
    "print title_string\n",
    "print title_string.split(\"(\")[0].strip()"
   ]
  },
  {
   "cell_type": "code",
   "execution_count": 38,
   "metadata": {
    "collapsed": false
   },
   "outputs": [
    {
     "name": "stdout",
     "output_type": "stream",
     "text": [
      "None\n",
      "Domestic Total Gross: \n"
     ]
    }
   ],
   "source": [
    "print soup.find(text=\"Domestic Total Gross\")\n",
    "print soup.find(text=\"Domestic Total Gross: \")"
   ]
  },
  {
   "cell_type": "code",
   "execution_count": 43,
   "metadata": {
    "collapsed": false
   },
   "outputs": [
    {
     "name": "stdout",
     "output_type": "stream",
     "text": [
      "Domestic Total Gross: \n"
     ]
    }
   ],
   "source": [
    "import re\n",
    "dtg_string = soup.find(text=re.compile(\"Domestic Total Gross\"))\n",
    "print dtg_string"
   ]
  },
  {
   "cell_type": "code",
   "execution_count": 53,
   "metadata": {
    "collapsed": true
   },
   "outputs": [],
   "source": [
    "def get_movie_value(soup, field_name):\n",
    "    \"\"\"\n",
    "    takes a string attr of a movie on the page, and returns the string in the next sibling object (the value for that attribute)\n",
    "    \"\"\"\n",
    "    obj = soup.find(text=re.compile(field_name))\n",
    "    #return none if not there\n",
    "    if not obj: return None\n",
    "    next_sibling = obj.findNextSibling()\n",
    "    #returns none if the next object (which should be the value associated with the item header on the page) is not there\n",
    "    if next_sibling:\n",
    "        return next_sibling.text\n",
    "    else: \n",
    "        return None"
   ]
  },
  {
   "cell_type": "code",
   "execution_count": 55,
   "metadata": {
    "collapsed": false
   },
   "outputs": [
    {
     "name": "stdout",
     "output_type": "stream",
     "text": [
      "$17,451,873\n",
      "1 hrs. 57 min.\n",
      "R\n",
      "March 6, 1998\n"
     ]
    }
   ],
   "source": [
    "dtg = get_movie_value(soup, \"Domestic Total\")\n",
    "print dtg\n",
    "\n",
    "runtime = get_movie_value(soup, \"Runtime\")\n",
    "print runtime\n",
    "\n",
    "rating =  get_movie_value(soup, \"MPAA Rating\")\n",
    "print rating\n",
    "\n",
    "release_date = get_movie_value(soup, \"Release Date\")\n",
    "print release_date"
   ]
  },
  {
   "cell_type": "code",
   "execution_count": 59,
   "metadata": {
    "collapsed": false
   },
   "outputs": [
    {
     "name": "stdout",
     "output_type": "stream",
     "text": [
      "{'rating': u'R', 'runtime': u'1 hrs. 57 min.', 'movie title': u'The Big Lebowski (1998) - Box Office Mojo', 'domestic total gross': u'$17,451,873', 'release date': u'March 6, 1998'}\n",
      "[{'rating': u'R', 'runtime': u'1 hrs. 57 min.', 'movie title': u'The Big Lebowski (1998) - Box Office Mojo', 'domestic total gross': u'$17,451,873', 'release date': u'March 6, 1998'}]\n"
     ]
    }
   ],
   "source": [
    "headers = [\"movie title\", \"domestic total gross\", \"release date\", \"runtime\", \"rating\"]\n",
    "movie_data = []\n",
    "\n",
    "movie_dict = dict(zip(headers, [title_string, dtg, release_date, runtime, rating]))\n",
    "print movie_dict\n",
    "\n",
    "movie_data.append(movie_dict)\n",
    "print movie_data"
   ]
  }
 ],
 "metadata": {
  "kernelspec": {
   "display_name": "Python 2",
   "language": "python",
   "name": "python2"
  },
  "language_info": {
   "codemirror_mode": {
    "name": "ipython",
    "version": 2
   },
   "file_extension": ".py",
   "mimetype": "text/x-python",
   "name": "python",
   "nbconvert_exporter": "python",
   "pygments_lexer": "ipython2",
   "version": "2.7.9"
  }
 },
 "nbformat": 4,
 "nbformat_minor": 0
}
