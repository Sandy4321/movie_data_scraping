{
 "cells": [
  {
   "cell_type": "markdown",
   "metadata": {},
   "source": [
    "##### Challenge 1\n",
    "\n",
    "Fit a model to your data. Now you know the coefficients (the beta\n",
    "values).\n",
    "Write a python function to simulate outcomes.\n",
    "(The sigma of the normal noise distribution will be the std deviation\n",
    "of the residuals.)\n",
    "For the same observed input variables, simulate the outcome.\n",
    "Plot the observed data and the simulated data."
   ]
  },
  {
   "cell_type": "code",
   "execution_count": 1,
   "metadata": {
    "collapsed": true
   },
   "outputs": [],
   "source": [
    "import pandas as pd\n",
    "import numpy as np\n",
    "import matplotlib.pyplot as plt\n",
    "import statsmodels.formula.api as smf\n",
    "import statsmodels.api as sm\n",
    "import csv\n",
    "\n",
    "%matplotlib inline\n",
    "# import mpld3"
   ]
  },
  {
   "cell_type": "code",
   "execution_count": 2,
   "metadata": {
    "collapsed": true
   },
   "outputs": [],
   "source": [
    "df = pd.DataFrame.from_csv('2013_movies.csv', parse_dates=True, infer_datetime_format=True)"
   ]
  },
  {
   "cell_type": "code",
   "execution_count": 3,
   "metadata": {
    "collapsed": true
   },
   "outputs": [],
   "source": [
    "df = sm.add_constant(df)"
   ]
  },
  {
   "cell_type": "code",
   "execution_count": 4,
   "metadata": {
    "collapsed": false
   },
   "outputs": [
    {
     "data": {
      "text/plain": [
       "const                   int64\n",
       "Budget                float64\n",
       "DomesticTotalGross      int64\n",
       "Director               object\n",
       "Rating                 object\n",
       "Runtime                 int64\n",
       "ReleaseDate            object\n",
       "dtype: object"
      ]
     },
     "execution_count": 4,
     "metadata": {},
     "output_type": "execute_result"
    }
   ],
   "source": [
    "df.dtypes"
   ]
  },
  {
   "cell_type": "code",
   "execution_count": 5,
   "metadata": {
    "collapsed": false
   },
   "outputs": [],
   "source": [
    "df = df.convert_objects(convert_dates=True)"
   ]
  },
  {
   "cell_type": "code",
   "execution_count": 6,
   "metadata": {
    "collapsed": false
   },
   "outputs": [
    {
     "data": {
      "text/html": [
       "<table class=\"simpletable\">\n",
       "<caption>OLS Regression Results</caption>\n",
       "<tr>\n",
       "  <th>Dep. Variable:</th>    <td>DomesticTotalGross</td> <th>  R-squared:         </th> <td>   0.291</td>\n",
       "</tr>\n",
       "<tr>\n",
       "  <th>Model:</th>                    <td>OLS</td>        <th>  Adj. R-squared:    </th> <td>   0.274</td>\n",
       "</tr>\n",
       "<tr>\n",
       "  <th>Method:</th>              <td>Least Squares</td>   <th>  F-statistic:       </th> <td>   17.63</td>\n",
       "</tr>\n",
       "<tr>\n",
       "  <th>Date:</th>              <td>Sun, 03 May 2015</td>  <th>  Prob (F-statistic):</th> <td>3.83e-07</td>\n",
       "</tr>\n",
       "<tr>\n",
       "  <th>Time:</th>                  <td>20:00:22</td>      <th>  Log-Likelihood:    </th> <td> -1737.7</td>\n",
       "</tr>\n",
       "<tr>\n",
       "  <th>No. Observations:</th>       <td>    89</td>       <th>  AIC:               </th> <td>   3481.</td>\n",
       "</tr>\n",
       "<tr>\n",
       "  <th>Df Residuals:</th>           <td>    86</td>       <th>  BIC:               </th> <td>   3489.</td>\n",
       "</tr>\n",
       "<tr>\n",
       "  <th>Df Model:</th>               <td>     2</td>       <th>                     </th>     <td> </td>   \n",
       "</tr>\n",
       "<tr>\n",
       "  <th>Covariance Type:</th>       <td>nonrobust</td>     <th>                     </th>     <td> </td>   \n",
       "</tr>\n",
       "</table>\n",
       "<table class=\"simpletable\">\n",
       "<tr>\n",
       "      <td></td>         <th>coef</th>     <th>std err</th>      <th>t</th>      <th>P>|t|</th> <th>[95.0% Conf. Int.]</th> \n",
       "</tr>\n",
       "<tr>\n",
       "  <th>Intercept</th> <td> 5.731e+06</td> <td> 5.13e+07</td> <td>    0.112</td> <td> 0.911</td> <td>-9.62e+07  1.08e+08</td>\n",
       "</tr>\n",
       "<tr>\n",
       "  <th>Budget</th>    <td>    0.7456</td> <td>    0.142</td> <td>    5.237</td> <td> 0.000</td> <td>    0.463     1.029</td>\n",
       "</tr>\n",
       "<tr>\n",
       "  <th>Runtime</th>   <td> 3.695e+05</td> <td> 4.75e+05</td> <td>    0.778</td> <td> 0.439</td> <td>-5.74e+05  1.31e+06</td>\n",
       "</tr>\n",
       "</table>\n",
       "<table class=\"simpletable\">\n",
       "<tr>\n",
       "  <th>Omnibus:</th>       <td>40.192</td> <th>  Durbin-Watson:     </th> <td>   0.716</td>\n",
       "</tr>\n",
       "<tr>\n",
       "  <th>Prob(Omnibus):</th> <td> 0.000</td> <th>  Jarque-Bera (JB):  </th> <td> 101.831</td>\n",
       "</tr>\n",
       "<tr>\n",
       "  <th>Skew:</th>          <td> 1.600</td> <th>  Prob(JB):          </th> <td>7.72e-23</td>\n",
       "</tr>\n",
       "<tr>\n",
       "  <th>Kurtosis:</th>      <td> 7.149</td> <th>  Cond. No.          </th> <td>6.21e+08</td>\n",
       "</tr>\n",
       "</table>"
      ],
      "text/plain": [
       "<class 'statsmodels.iolib.summary.Summary'>\n",
       "\"\"\"\n",
       "                            OLS Regression Results                            \n",
       "==============================================================================\n",
       "Dep. Variable:     DomesticTotalGross   R-squared:                       0.291\n",
       "Model:                            OLS   Adj. R-squared:                  0.274\n",
       "Method:                 Least Squares   F-statistic:                     17.63\n",
       "Date:                Sun, 03 May 2015   Prob (F-statistic):           3.83e-07\n",
       "Time:                        20:00:22   Log-Likelihood:                -1737.7\n",
       "No. Observations:                  89   AIC:                             3481.\n",
       "Df Residuals:                      86   BIC:                             3489.\n",
       "Df Model:                           2                                         \n",
       "Covariance Type:            nonrobust                                         \n",
       "==============================================================================\n",
       "                 coef    std err          t      P>|t|      [95.0% Conf. Int.]\n",
       "------------------------------------------------------------------------------\n",
       "Intercept   5.731e+06   5.13e+07      0.112      0.911     -9.62e+07  1.08e+08\n",
       "Budget         0.7456      0.142      5.237      0.000         0.463     1.029\n",
       "Runtime     3.695e+05   4.75e+05      0.778      0.439     -5.74e+05  1.31e+06\n",
       "==============================================================================\n",
       "Omnibus:                       40.192   Durbin-Watson:                   0.716\n",
       "Prob(Omnibus):                  0.000   Jarque-Bera (JB):              101.831\n",
       "Skew:                           1.600   Prob(JB):                     7.72e-23\n",
       "Kurtosis:                       7.149   Cond. No.                     6.21e+08\n",
       "==============================================================================\n",
       "\n",
       "Warnings:\n",
       "[1] Standard Errors assume that the covariance matrix of the errors is correctly specified.\n",
       "[2] The condition number is large, 6.21e+08. This might indicate that there are\n",
       "strong multicollinearity or other numerical problems.\n",
       "\"\"\""
      ]
     },
     "execution_count": 6,
     "metadata": {},
     "output_type": "execute_result"
    }
   ],
   "source": [
    "model = smf.ols(\"DomesticTotalGross ~ Budget + Runtime\", data=df)\n",
    "fitted = model.fit()\n",
    "fitted.summary()"
   ]
  },
  {
   "cell_type": "code",
   "execution_count": 7,
   "metadata": {
    "collapsed": false
   },
   "outputs": [],
   "source": [
    "residuals_std_dev = np.std(fitted.resid)"
   ]
  },
  {
   "cell_type": "code",
   "execution_count": 8,
   "metadata": {
    "collapsed": false
   },
   "outputs": [],
   "source": [
    "from random import normalvariate\n",
    "\n",
    "def simulated_outcomes(df):\n",
    "    intercept = 5731000\n",
    "    noise = normalvariate(0, 475000)\n",
    "    df2 = df.copy()\n",
    "    df2['BudgetSim'] = df2.Budget.apply(lambda x: x*0.7456)\n",
    "    df2['RuntimeSim'] = df2.Runtime.apply(lambda x: x*369500)\n",
    "    df2['GrossSim'] = intercept + df2.BudgetSim + df2.RuntimeSim\n",
    "    df2['GrossSimResiduals'] = intercept + df2.BudgetSim + df2.RuntimeSim + normalvariate(0,residuals_std_dev)\n",
    "    df2['Noise'] = normalvariate(0, abs(df2.DomesticTotalGross - df2.GrossSim))\n",
    "    df2['NoiseyGrossSim'] = intercept + df2.BudgetSim + df2.RuntimeSim + df2.Noise\n",
    "    return df2"
   ]
  },
  {
   "cell_type": "code",
   "execution_count": 9,
   "metadata": {
    "collapsed": false
   },
   "outputs": [],
   "source": [
    "df3 = simulated_outcomes(df)"
   ]
  },
  {
   "cell_type": "code",
   "execution_count": 10,
   "metadata": {
    "collapsed": false
   },
   "outputs": [
    {
     "data": {
      "text/html": [
       "<div style=\"max-height:1000px;max-width:1500px;overflow:auto;\">\n",
       "<table border=\"1\" class=\"dataframe\">\n",
       "  <thead>\n",
       "    <tr style=\"text-align: right;\">\n",
       "      <th></th>\n",
       "      <th>const</th>\n",
       "      <th>Budget</th>\n",
       "      <th>DomesticTotalGross</th>\n",
       "      <th>Director</th>\n",
       "      <th>Rating</th>\n",
       "      <th>Runtime</th>\n",
       "      <th>ReleaseDate</th>\n",
       "      <th>BudgetSim</th>\n",
       "      <th>RuntimeSim</th>\n",
       "      <th>GrossSim</th>\n",
       "      <th>GrossSimResiduals</th>\n",
       "      <th>Noise</th>\n",
       "      <th>NoiseyGrossSim</th>\n",
       "    </tr>\n",
       "    <tr>\n",
       "      <th>Title</th>\n",
       "      <th></th>\n",
       "      <th></th>\n",
       "      <th></th>\n",
       "      <th></th>\n",
       "      <th></th>\n",
       "      <th></th>\n",
       "      <th></th>\n",
       "      <th></th>\n",
       "      <th></th>\n",
       "      <th></th>\n",
       "      <th></th>\n",
       "      <th></th>\n",
       "      <th></th>\n",
       "    </tr>\n",
       "  </thead>\n",
       "  <tbody>\n",
       "    <tr>\n",
       "      <th>The Hunger Games: Catching Fire</th>\n",
       "      <td>1</td>\n",
       "      <td>130000000</td>\n",
       "      <td>424668047</td>\n",
       "      <td>Francis Lawrence</td>\n",
       "      <td>PG-13</td>\n",
       "      <td>146</td>\n",
       "      <td>2013-11-22 00:00:00</td>\n",
       "      <td>96928000</td>\n",
       "      <td>53947000</td>\n",
       "      <td>156606000</td>\n",
       "      <td>3.484736e+07</td>\n",
       "      <td>-94415716.181352</td>\n",
       "      <td>6.219028e+07</td>\n",
       "    </tr>\n",
       "    <tr>\n",
       "      <th>Iron Man 3</th>\n",
       "      <td>1</td>\n",
       "      <td>200000000</td>\n",
       "      <td>409013994</td>\n",
       "      <td>Shane Black</td>\n",
       "      <td>PG-13</td>\n",
       "      <td>129</td>\n",
       "      <td>2013-05-03 00:00:00</td>\n",
       "      <td>149120000</td>\n",
       "      <td>47665500</td>\n",
       "      <td>202516500</td>\n",
       "      <td>8.075786e+07</td>\n",
       "      <td>-72731701.499185</td>\n",
       "      <td>1.297848e+08</td>\n",
       "    </tr>\n",
       "    <tr>\n",
       "      <th>Frozen</th>\n",
       "      <td>1</td>\n",
       "      <td>150000000</td>\n",
       "      <td>400738009</td>\n",
       "      <td>Chris BuckJennifer Lee</td>\n",
       "      <td>PG</td>\n",
       "      <td>108</td>\n",
       "      <td>2013-11-22 00:00:00</td>\n",
       "      <td>111840000</td>\n",
       "      <td>39906000</td>\n",
       "      <td>157477000</td>\n",
       "      <td>3.571836e+07</td>\n",
       "      <td>-85680396.164897</td>\n",
       "      <td>7.179660e+07</td>\n",
       "    </tr>\n",
       "    <tr>\n",
       "      <th>Despicable Me 2</th>\n",
       "      <td>1</td>\n",
       "      <td>76000000</td>\n",
       "      <td>368061265</td>\n",
       "      <td>Pierre CoffinChris Renaud</td>\n",
       "      <td>PG</td>\n",
       "      <td>98</td>\n",
       "      <td>2013-07-03 00:00:00</td>\n",
       "      <td>56665600</td>\n",
       "      <td>36211000</td>\n",
       "      <td>98607600</td>\n",
       "      <td>-2.315104e+07</td>\n",
       "      <td>-94905866.173085</td>\n",
       "      <td>3.701734e+06</td>\n",
       "    </tr>\n",
       "    <tr>\n",
       "      <th>Man of Steel</th>\n",
       "      <td>1</td>\n",
       "      <td>225000000</td>\n",
       "      <td>291045518</td>\n",
       "      <td>Zack Snyder</td>\n",
       "      <td>PG-13</td>\n",
       "      <td>143</td>\n",
       "      <td>2013-06-14 00:00:00</td>\n",
       "      <td>167760000</td>\n",
       "      <td>52838500</td>\n",
       "      <td>226329500</td>\n",
       "      <td>1.045709e+08</td>\n",
       "      <td>-22794010.775704</td>\n",
       "      <td>2.035355e+08</td>\n",
       "    </tr>\n",
       "  </tbody>\n",
       "</table>\n",
       "</div>"
      ],
      "text/plain": [
       "                                 const     Budget  DomesticTotalGross  \\\n",
       "Title                                                                   \n",
       "The Hunger Games: Catching Fire      1  130000000           424668047   \n",
       "Iron Man 3                           1  200000000           409013994   \n",
       "Frozen                               1  150000000           400738009   \n",
       "Despicable Me 2                      1   76000000           368061265   \n",
       "Man of Steel                         1  225000000           291045518   \n",
       "\n",
       "                                                  Director Rating  Runtime  \\\n",
       "Title                                                                        \n",
       "The Hunger Games: Catching Fire           Francis Lawrence  PG-13      146   \n",
       "Iron Man 3                                     Shane Black  PG-13      129   \n",
       "Frozen                              Chris BuckJennifer Lee     PG      108   \n",
       "Despicable Me 2                  Pierre CoffinChris Renaud     PG       98   \n",
       "Man of Steel                                   Zack Snyder  PG-13      143   \n",
       "\n",
       "                                         ReleaseDate  BudgetSim  RuntimeSim  \\\n",
       "Title                                                                         \n",
       "The Hunger Games: Catching Fire  2013-11-22 00:00:00   96928000    53947000   \n",
       "Iron Man 3                       2013-05-03 00:00:00  149120000    47665500   \n",
       "Frozen                           2013-11-22 00:00:00  111840000    39906000   \n",
       "Despicable Me 2                  2013-07-03 00:00:00   56665600    36211000   \n",
       "Man of Steel                     2013-06-14 00:00:00  167760000    52838500   \n",
       "\n",
       "                                  GrossSim  GrossSimResiduals  \\\n",
       "Title                                                           \n",
       "The Hunger Games: Catching Fire  156606000       3.484736e+07   \n",
       "Iron Man 3                       202516500       8.075786e+07   \n",
       "Frozen                           157477000       3.571836e+07   \n",
       "Despicable Me 2                   98607600      -2.315104e+07   \n",
       "Man of Steel                     226329500       1.045709e+08   \n",
       "\n",
       "                                           Noise  NoiseyGrossSim  \n",
       "Title                                                             \n",
       "The Hunger Games: Catching Fire -94415716.181352    6.219028e+07  \n",
       "Iron Man 3                      -72731701.499185    1.297848e+08  \n",
       "Frozen                          -85680396.164897    7.179660e+07  \n",
       "Despicable Me 2                 -94905866.173085    3.701734e+06  \n",
       "Man of Steel                    -22794010.775704    2.035355e+08  "
      ]
     },
     "execution_count": 10,
     "metadata": {},
     "output_type": "execute_result"
    }
   ],
   "source": [
    "df3.head()"
   ]
  },
  {
   "cell_type": "code",
   "execution_count": 11,
   "metadata": {
    "collapsed": false
   },
   "outputs": [
    {
     "data": {
      "text/plain": [
       "<matplotlib.legend.Legend at 0x10961aed0>"
      ]
     },
     "execution_count": 11,
     "metadata": {},
     "output_type": "execute_result"
    },
    {
     "data": {
      "image/png": "[encoded data removed]",
      "text/plain": [
       "<matplotlib.figure.Figure at 0x109449b10>"
      ]
     },
     "metadata": {},
     "output_type": "display_data"
    }
   ],
   "source": [
    "#plot of simulated with residuals as epsilon vs fitted vs actual\n",
    "plt.scatter(df3.BudgetSim, df3.GrossSimResiduals, color ='b')\n",
    "plt.scatter(df.Budget, df.DomesticTotalGross, color ='r')\n",
    "plt.plot(df.Budget.dropna(), fitted.fittedvalues, 'go')\n",
    "plt.legend(['Fitted', 'Simulated', 'Actual'])"
   ]
  },
  {
   "cell_type": "code",
   "execution_count": 12,
   "metadata": {
    "collapsed": false
   },
   "outputs": [
    {
     "data": {
      "text/plain": [
       "<matplotlib.collections.PathCollection at 0x10989f950>"
      ]
     },
     "execution_count": 12,
     "metadata": {},
     "output_type": "execute_result"
    },
    {
     "data": {
      "image/png": "[encoded data removed]",
      "text/plain": [
       "<matplotlib.figure.Figure at 0x1094497d0>"
      ]
     },
     "metadata": {},
     "output_type": "display_data"
    }
   ],
   "source": [
    "#plot of simulated with and without epsilon\n",
    "plt.scatter(df3.BudgetSim, df3.GrossSimResiduals, color = 'g')\n",
    "plt.scatter(df3.BudgetSim, df3.GrossSim)"
   ]
  },
  {
   "cell_type": "code",
   "execution_count": 13,
   "metadata": {
    "collapsed": false
   },
   "outputs": [
    {
     "data": {
      "text/plain": [
       "<matplotlib.legend.Legend at 0x1098d39d0>"
      ]
     },
     "execution_count": 13,
     "metadata": {},
     "output_type": "execute_result"
    },
    {
     "data": {
      "image/png": "[encoded data removed]",
      "text/plain": [
       "<matplotlib.figure.Figure at 0x1098d3450>"
      ]
     },
     "metadata": {},
     "output_type": "display_data"
    }
   ],
   "source": [
    "#plot of residuals for fitted\n",
    "plt.plot(df.Budget.dropna(), fitted.resid, 'mo')\n",
    "plt.legend(['residuals'])"
   ]
  },
  {
   "cell_type": "code",
   "execution_count": 40,
   "metadata": {
    "collapsed": false
   },
   "outputs": [
    {
     "data": {
      "text/plain": [
       "<matplotlib.collections.PathCollection at 0x10abf2b90>"
      ]
     },
     "execution_count": 40,
     "metadata": {},
     "output_type": "execute_result"
    },
    {
     "data": {
      "image/png": "[encoded data removed]",
      "text/plain": [
       "<matplotlib.figure.Figure at 0x10a6efb10>"
      ]
     },
     "metadata": {},
     "output_type": "display_data"
    }
   ],
   "source": [
    "#plot of nonsensical epsilon vs actual\n",
    "plt.scatter(df3.BudgetSim, df3.NoiseyGrossSim, color ='b')\n",
    "plt.scatter(df.Budget, df.DomesticTotalGross, color ='r')"
   ]
  },
  {
   "cell_type": "markdown",
   "metadata": {},
   "source": [
    "##### Challenge 2\n",
    "\n",
    "Generate (fake) data that is linearly related to log(x).\n",
    "Basically write an underlying model just like in challenge 1, but\n",
    "instead of a fitted model, you are making this model up. It is of the\n",
    "form B0 + B1log(x) + epsilon. You are making up the parameters.\n",
    "Simulate some data from this model.\n",
    "Then fit two models to it:\n",
    "a) quadratic [second degree polynomial]\n",
    "b) logarithmic [log(x)]\n",
    "(the second one should fit really well, since it has the same form as\n",
    "the underlying model!)"
   ]
  },
  {
   "cell_type": "code",
   "execution_count": 15,
   "metadata": {
    "collapsed": false
   },
   "outputs": [],
   "source": [
    "fake_data = pd.DataFrame({'X': np.linspace(1,100, 100)})"
   ]
  },
  {
   "cell_type": "code",
   "execution_count": 16,
   "metadata": {
    "collapsed": false
   },
   "outputs": [],
   "source": [
    "import math\n",
    "intercept = 5\n",
    "sigma = 10\n",
    "fake_data['y'] = fake_data.X.apply(lambda x: intercept + math.log(x) + normalvariate(0, sigma) )"
   ]
  },
  {
   "cell_type": "code",
   "execution_count": 17,
   "metadata": {
    "collapsed": false
   },
   "outputs": [],
   "source": [
    "fake_data = sm.add_constant(fake_data)"
   ]
  },
  {
   "cell_type": "code",
   "execution_count": 18,
   "metadata": {
    "collapsed": false
   },
   "outputs": [
    {
     "data": {
      "text/html": [
       "<div style=\"max-height:1000px;max-width:1500px;overflow:auto;\">\n",
       "<table border=\"1\" class=\"dataframe\">\n",
       "  <thead>\n",
       "    <tr style=\"text-align: right;\">\n",
       "      <th></th>\n",
       "      <th>const</th>\n",
       "      <th>X</th>\n",
       "      <th>y</th>\n",
       "    </tr>\n",
       "  </thead>\n",
       "  <tbody>\n",
       "    <tr>\n",
       "      <th>0</th>\n",
       "      <td>1</td>\n",
       "      <td>1</td>\n",
       "      <td>-9.362379</td>\n",
       "    </tr>\n",
       "    <tr>\n",
       "      <th>1</th>\n",
       "      <td>1</td>\n",
       "      <td>2</td>\n",
       "      <td>5.352615</td>\n",
       "    </tr>\n",
       "    <tr>\n",
       "      <th>2</th>\n",
       "      <td>1</td>\n",
       "      <td>3</td>\n",
       "      <td>13.730521</td>\n",
       "    </tr>\n",
       "    <tr>\n",
       "      <th>3</th>\n",
       "      <td>1</td>\n",
       "      <td>4</td>\n",
       "      <td>20.440466</td>\n",
       "    </tr>\n",
       "    <tr>\n",
       "      <th>4</th>\n",
       "      <td>1</td>\n",
       "      <td>5</td>\n",
       "      <td>-0.860942</td>\n",
       "    </tr>\n",
       "  </tbody>\n",
       "</table>\n",
       "</div>"
      ],
      "text/plain": [
       "   const  X          y\n",
       "0      1  1  -9.362379\n",
       "1      1  2   5.352615\n",
       "2      1  3  13.730521\n",
       "3      1  4  20.440466\n",
       "4      1  5  -0.860942"
      ]
     },
     "execution_count": 18,
     "metadata": {},
     "output_type": "execute_result"
    }
   ],
   "source": [
    "fake_data.head()"
   ]
  },
  {
   "cell_type": "code",
   "execution_count": 19,
   "metadata": {
    "collapsed": false
   },
   "outputs": [
    {
     "data": {
      "text/plain": [
       "<matplotlib.collections.PathCollection at 0x109d0fc90>"
      ]
     },
     "execution_count": 19,
     "metadata": {},
     "output_type": "execute_result"
    },
    {
     "data": {
      "image/png": "[encoded data removed]",
      "text/plain": [
       "<matplotlib.figure.Figure at 0x109c10b50>"
      ]
     },
     "metadata": {},
     "output_type": "display_data"
    }
   ],
   "source": [
    "plt.scatter(fake_data.X, fake_data.y)"
   ]
  },
  {
   "cell_type": "code",
   "execution_count": 20,
   "metadata": {
    "collapsed": true
   },
   "outputs": [],
   "source": [
    "model = sm.OLS(fake_data.y, fake_data.X).fit()"
   ]
  },
  {
   "cell_type": "code",
   "execution_count": 21,
   "metadata": {
    "collapsed": false
   },
   "outputs": [
    {
     "data": {
      "text/html": [
       "<table class=\"simpletable\">\n",
       "<caption>OLS Regression Results</caption>\n",
       "<tr>\n",
       "  <th>Dep. Variable:</th>            <td>y</td>        <th>  R-squared:         </th> <td>   0.434</td>\n",
       "</tr>\n",
       "<tr>\n",
       "  <th>Model:</th>                   <td>OLS</td>       <th>  Adj. R-squared:    </th> <td>   0.428</td>\n",
       "</tr>\n",
       "<tr>\n",
       "  <th>Method:</th>             <td>Least Squares</td>  <th>  F-statistic:       </th> <td>   75.88</td>\n",
       "</tr>\n",
       "<tr>\n",
       "  <th>Date:</th>             <td>Sun, 03 May 2015</td> <th>  Prob (F-statistic):</th> <td>7.04e-14</td>\n",
       "</tr>\n",
       "<tr>\n",
       "  <th>Time:</th>                 <td>20:00:25</td>     <th>  Log-Likelihood:    </th> <td> -384.14</td>\n",
       "</tr>\n",
       "<tr>\n",
       "  <th>No. Observations:</th>      <td>   100</td>      <th>  AIC:               </th> <td>   770.3</td>\n",
       "</tr>\n",
       "<tr>\n",
       "  <th>Df Residuals:</th>          <td>    99</td>      <th>  BIC:               </th> <td>   772.9</td>\n",
       "</tr>\n",
       "<tr>\n",
       "  <th>Df Model:</th>              <td>     1</td>      <th>                     </th>     <td> </td>   \n",
       "</tr>\n",
       "<tr>\n",
       "  <th>Covariance Type:</th>      <td>nonrobust</td>    <th>                     </th>     <td> </td>   \n",
       "</tr>\n",
       "</table>\n",
       "<table class=\"simpletable\">\n",
       "<tr>\n",
       "  <td></td>     <th>coef</th>     <th>std err</th>      <th>t</th>      <th>P>|t|</th> <th>[95.0% Conf. Int.]</th> \n",
       "</tr>\n",
       "<tr>\n",
       "  <th>X</th> <td>    0.1697</td> <td>    0.019</td> <td>    8.711</td> <td> 0.000</td> <td>    0.131     0.208</td>\n",
       "</tr>\n",
       "</table>\n",
       "<table class=\"simpletable\">\n",
       "<tr>\n",
       "  <th>Omnibus:</th>       <td> 1.666</td> <th>  Durbin-Watson:     </th> <td>   1.691</td>\n",
       "</tr>\n",
       "<tr>\n",
       "  <th>Prob(Omnibus):</th> <td> 0.435</td> <th>  Jarque-Bera (JB):  </th> <td>   1.707</td>\n",
       "</tr>\n",
       "<tr>\n",
       "  <th>Skew:</th>          <td> 0.265</td> <th>  Prob(JB):          </th> <td>   0.426</td>\n",
       "</tr>\n",
       "<tr>\n",
       "  <th>Kurtosis:</th>      <td> 2.641</td> <th>  Cond. No.          </th> <td>    1.00</td>\n",
       "</tr>\n",
       "</table>"
      ],
      "text/plain": [
       "<class 'statsmodels.iolib.summary.Summary'>\n",
       "\"\"\"\n",
       "                            OLS Regression Results                            \n",
       "==============================================================================\n",
       "Dep. Variable:                      y   R-squared:                       0.434\n",
       "Model:                            OLS   Adj. R-squared:                  0.428\n",
       "Method:                 Least Squares   F-statistic:                     75.88\n",
       "Date:                Sun, 03 May 2015   Prob (F-statistic):           7.04e-14\n",
       "Time:                        20:00:25   Log-Likelihood:                -384.14\n",
       "No. Observations:                 100   AIC:                             770.3\n",
       "Df Residuals:                      99   BIC:                             772.9\n",
       "Df Model:                           1                                         \n",
       "Covariance Type:            nonrobust                                         \n",
       "==============================================================================\n",
       "                 coef    std err          t      P>|t|      [95.0% Conf. Int.]\n",
       "------------------------------------------------------------------------------\n",
       "X              0.1697      0.019      8.711      0.000         0.131     0.208\n",
       "==============================================================================\n",
       "Omnibus:                        1.666   Durbin-Watson:                   1.691\n",
       "Prob(Omnibus):                  0.435   Jarque-Bera (JB):                1.707\n",
       "Skew:                           0.265   Prob(JB):                        0.426\n",
       "Kurtosis:                       2.641   Cond. No.                         1.00\n",
       "==============================================================================\n",
       "\n",
       "Warnings:\n",
       "[1] Standard Errors assume that the covariance matrix of the errors is correctly specified.\n",
       "\"\"\""
      ]
     },
     "execution_count": 21,
     "metadata": {},
     "output_type": "execute_result"
    }
   ],
   "source": [
    "model.summary()"
   ]
  },
  {
   "cell_type": "code",
   "execution_count": 22,
   "metadata": {
    "collapsed": false
   },
   "outputs": [],
   "source": [
    "fake_data['quadratic'] = fake_data.X.apply(lambda x: 2 * x**2 + 3 * x + 4)\n",
    "fake_data['logarithmic'] = fake_data.X.apply(lambda x: math.log(x))"
   ]
  },
  {
   "cell_type": "code",
   "execution_count": 23,
   "metadata": {
    "collapsed": false
   },
   "outputs": [
    {
     "data": {
      "text/html": [
       "<div style=\"max-height:1000px;max-width:1500px;overflow:auto;\">\n",
       "<table border=\"1\" class=\"dataframe\">\n",
       "  <thead>\n",
       "    <tr style=\"text-align: right;\">\n",
       "      <th></th>\n",
       "      <th>const</th>\n",
       "      <th>X</th>\n",
       "      <th>y</th>\n",
       "      <th>quadratic</th>\n",
       "      <th>logarithmic</th>\n",
       "    </tr>\n",
       "  </thead>\n",
       "  <tbody>\n",
       "    <tr>\n",
       "      <th>0</th>\n",
       "      <td>1</td>\n",
       "      <td>1</td>\n",
       "      <td>-9.362379</td>\n",
       "      <td>9</td>\n",
       "      <td>0.000000</td>\n",
       "    </tr>\n",
       "    <tr>\n",
       "      <th>1</th>\n",
       "      <td>1</td>\n",
       "      <td>2</td>\n",
       "      <td>5.352615</td>\n",
       "      <td>18</td>\n",
       "      <td>0.693147</td>\n",
       "    </tr>\n",
       "    <tr>\n",
       "      <th>2</th>\n",
       "      <td>1</td>\n",
       "      <td>3</td>\n",
       "      <td>13.730521</td>\n",
       "      <td>31</td>\n",
       "      <td>1.098612</td>\n",
       "    </tr>\n",
       "    <tr>\n",
       "      <th>3</th>\n",
       "      <td>1</td>\n",
       "      <td>4</td>\n",
       "      <td>20.440466</td>\n",
       "      <td>48</td>\n",
       "      <td>1.386294</td>\n",
       "    </tr>\n",
       "    <tr>\n",
       "      <th>4</th>\n",
       "      <td>1</td>\n",
       "      <td>5</td>\n",
       "      <td>-0.860942</td>\n",
       "      <td>69</td>\n",
       "      <td>1.609438</td>\n",
       "    </tr>\n",
       "  </tbody>\n",
       "</table>\n",
       "</div>"
      ],
      "text/plain": [
       "   const  X          y  quadratic  logarithmic\n",
       "0      1  1  -9.362379          9     0.000000\n",
       "1      1  2   5.352615         18     0.693147\n",
       "2      1  3  13.730521         31     1.098612\n",
       "3      1  4  20.440466         48     1.386294\n",
       "4      1  5  -0.860942         69     1.609438"
      ]
     },
     "execution_count": 23,
     "metadata": {},
     "output_type": "execute_result"
    }
   ],
   "source": [
    "fake_data.head()"
   ]
  },
  {
   "cell_type": "code",
   "execution_count": 24,
   "metadata": {
    "collapsed": false
   },
   "outputs": [
    {
     "data": {
      "text/plain": [
       "(-15, 40)"
      ]
     },
     "execution_count": 24,
     "metadata": {},
     "output_type": "execute_result"
    },
    {
     "data": {
      "image/png": "[encoded data removed]",
      "text/plain": [
       "<matplotlib.figure.Figure at 0x109d3c990>"
      ]
     },
     "metadata": {},
     "output_type": "display_data"
    }
   ],
   "source": [
    "plt.scatter(fake_data.X, fake_data.y)\n",
    "plt.plot(fake_data.X, model.fittedvalues)\n",
    "plt.plot(fake_data.X, fake_data.quadratic)\n",
    "plt.plot(fake_data.X, fake_data.logarithmic, 'm')\n",
    "plt.ylim(-15,40)"
   ]
  },
  {
   "cell_type": "code",
   "execution_count": 25,
   "metadata": {
    "collapsed": false
   },
   "outputs": [
    {
     "data": {
      "text/plain": [
       "[<matplotlib.lines.Line2D at 0x109f71990>]"
      ]
     },
     "execution_count": 25,
     "metadata": {},
     "output_type": "execute_result"
    },
    {
     "data": {
      "image/png": "[encoded data removed]",
      "text/plain": [
       "<matplotlib.figure.Figure at 0x109e02dd0>"
      ]
     },
     "metadata": {},
     "output_type": "display_data"
    }
   ],
   "source": [
    "plt.scatter(fake_data.X, fake_data.y)\n",
    "plt.plot(fake_data.X, model.fittedvalues)\n",
    "plt.plot(fake_data.X, fake_data.quadratic)\n",
    "plt.plot(fake_data.X, fake_data.logarithmic, 'm')"
   ]
  },
  {
   "cell_type": "markdown",
   "metadata": {},
   "source": [
    "##### Challenge 3\n",
    "\n",
    "Fit a model to your training set. Calculate mean squared error on your\n",
    "training set. Then calculate it on your test set.\n",
    "(You can use `sklearn.metrics.mean_squared_error`.)"
   ]
  },
  {
   "cell_type": "code",
   "execution_count": 26,
   "metadata": {
    "collapsed": true
   },
   "outputs": [],
   "source": [
    "from sklearn.cross_validation import train_test_split\n",
    "df_train, df_test = train_test_split(df.dropna(), test_size=0.33)"
   ]
  },
  {
   "cell_type": "code",
   "execution_count": 27,
   "metadata": {
    "collapsed": false
   },
   "outputs": [],
   "source": [
    "from sklearn.metrics import mean_squared_error\n",
    "model = sm.OLS(df_train.DomesticTotalGross, df_train.Budget).fit()"
   ]
  },
  {
   "cell_type": "code",
   "execution_count": 28,
   "metadata": {
    "collapsed": false
   },
   "outputs": [
    {
     "name": "stdout",
     "output_type": "stream",
     "text": [
      "Training mean squared error is 5.13905363012e+15\n"
     ]
    }
   ],
   "source": [
    "print(\"Training mean squared error is {0}\".format(mean_squared_error(df_train.DomesticTotalGross, model.fittedvalues)))"
   ]
  },
  {
   "cell_type": "code",
   "execution_count": 29,
   "metadata": {
    "collapsed": false
   },
   "outputs": [
    {
     "name": "stdout",
     "output_type": "stream",
     "text": [
      "Test mean squared error is 8.48346472739e+15\n"
     ]
    }
   ],
   "source": [
    "test_predict = model.predict(df_test.Budget)\n",
    "\n",
    "print(\"Test mean squared error is {0}\".format(mean_squared_error(df_test.DomesticTotalGross, test_predict)))"
   ]
  },
  {
   "cell_type": "markdown",
   "metadata": {},
   "source": [
    "##### Challenge 4\n",
    "\n",
    "For one continuous feature (like budget, choose one that strongly\n",
    "affects the outcome), try polynomial fits from 0th (just constant) to\n",
    "7th order (highest term x^7). Over the x axis of model degree (8\n",
    "points), plot:\n",
    "\n",
    " * training error\n",
    " * test error\n",
    " * R squared\n",
    " * AIC"
   ]
  },
  {
   "cell_type": "code",
   "execution_count": 30,
   "metadata": {
    "collapsed": true
   },
   "outputs": [],
   "source": [
    "polynomials = df.copy()\n",
    "poly_train, poly_test = train_test_split(polynomials.dropna(), test_size=0.25)"
   ]
  },
  {
   "cell_type": "code",
   "execution_count": 31,
   "metadata": {
    "collapsed": false
   },
   "outputs": [],
   "source": [
    "poly_dict = {}\n",
    "poly_train = poly_train.sort('Budget')\n",
    "for i in range(8):\n",
    "    poly_train[str(i)+\"th\"] = poly_train['Budget'].apply(lambda x: x**i)\n",
    "    poly_dict[i] = sm.OLS(poly_train.DomesticTotalGross, poly_train[str(i)+\"th\"]).fit()\n"
   ]
  },
  {
   "cell_type": "code",
   "execution_count": 38,
   "metadata": {
    "collapsed": false
   },
   "outputs": [
    {
     "data": {
      "text/plain": [
       "[<matplotlib.lines.Line2D at 0x10a686dd0>]"
      ]
     },
     "execution_count": 38,
     "metadata": {},
     "output_type": "execute_result"
    },
    {
     "data": {
      "image/png": "[encoded data removed]",
      "text/plain": [
       "<matplotlib.figure.Figure at 0x10990a750>"
      ]
     },
     "metadata": {},
     "output_type": "display_data"
    }
   ],
   "source": [
    "# Training error\n",
    "plt.plot([i for i in poly_dict], [i.mse_resid for i in poly_dict.values()])"
   ]
  },
  {
   "cell_type": "markdown",
   "metadata": {},
   "source": [
    "#almost everything is either nan or infinit?"
   ]
  },
  {
   "cell_type": "code",
   "execution_count": 34,
   "metadata": {
    "collapsed": false
   },
   "outputs": [
    {
     "data": {
      "text/plain": [
       "[<matplotlib.lines.Line2D at 0x10a357fd0>]"
      ]
     },
     "execution_count": 34,
     "metadata": {},
     "output_type": "execute_result"
    },
    {
     "data": {
      "image/png": "[encoded data removed]",
      "text/plain": [
       "<matplotlib.figure.Figure at 0x109faa610>"
      ]
     },
     "metadata": {},
     "output_type": "display_data"
    }
   ],
   "source": [
    "#Test error\n",
    "plt.plot([i for i in poly_dict], [np.mean(abs(poly_test.DomesticTotalGross - i.predict(poly_test.Budget))) for i in poly_dict.values()])"
   ]
  },
  {
   "cell_type": "code",
   "execution_count": 35,
   "metadata": {
    "collapsed": false
   },
   "outputs": [
    {
     "data": {
      "text/plain": [
       "[<matplotlib.lines.Line2D at 0x10a578a90>]"
      ]
     },
     "execution_count": 35,
     "metadata": {},
     "output_type": "execute_result"
    },
    {
     "data": {
      "image/png": "[encoded data removed]",
      "text/plain": [
       "<matplotlib.figure.Figure at 0x109ea1990>"
      ]
     },
     "metadata": {},
     "output_type": "display_data"
    }
   ],
   "source": [
    "# R squared\n",
    "plt.plot([i for i in poly_dict], [i.rsquared for i in poly_dict.values()])"
   ]
  },
  {
   "cell_type": "code",
   "execution_count": 36,
   "metadata": {
    "collapsed": false
   },
   "outputs": [
    {
     "data": {
      "text/plain": [
       "[<matplotlib.lines.Line2D at 0x109e86c90>]"
      ]
     },
     "execution_count": 36,
     "metadata": {},
     "output_type": "execute_result"
    },
    {
     "data": {
      "image/png": "[encoded data removed]",
      "text/plain": [
       "<matplotlib.figure.Figure at 0x10a59b490>"
      ]
     },
     "metadata": {},
     "output_type": "display_data"
    }
   ],
   "source": [
    "# AIC\n",
    "plt.plot([i for i in poly_dict], [i.aic for i in poly_dict.values()])"
   ]
  },
  {
   "cell_type": "code",
   "execution_count": 37,
   "metadata": {
    "collapsed": false
   },
   "outputs": [
    {
     "data": {
      "text/html": [
       "<div style=\"max-height:1000px;max-width:1500px;overflow:auto;\">\n",
       "<table border=\"1\" class=\"dataframe\">\n",
       "  <thead>\n",
       "    <tr style=\"text-align: right;\">\n",
       "      <th></th>\n",
       "      <th>const</th>\n",
       "      <th>Budget</th>\n",
       "      <th>DomesticTotalGross</th>\n",
       "      <th>Director</th>\n",
       "      <th>Rating</th>\n",
       "      <th>Runtime</th>\n",
       "      <th>ReleaseDate</th>\n",
       "      <th>0th</th>\n",
       "      <th>1th</th>\n",
       "      <th>2th</th>\n",
       "      <th>3th</th>\n",
       "      <th>4th</th>\n",
       "      <th>5th</th>\n",
       "      <th>6th</th>\n",
       "      <th>7th</th>\n",
       "    </tr>\n",
       "    <tr>\n",
       "      <th>Title</th>\n",
       "      <th></th>\n",
       "      <th></th>\n",
       "      <th></th>\n",
       "      <th></th>\n",
       "      <th></th>\n",
       "      <th></th>\n",
       "      <th></th>\n",
       "      <th></th>\n",
       "      <th></th>\n",
       "      <th></th>\n",
       "      <th></th>\n",
       "      <th></th>\n",
       "      <th></th>\n",
       "      <th></th>\n",
       "      <th></th>\n",
       "    </tr>\n",
       "  </thead>\n",
       "  <tbody>\n",
       "    <tr>\n",
       "      <th>A Haunted House</th>\n",
       "      <td>1</td>\n",
       "      <td>2500000</td>\n",
       "      <td>40041683</td>\n",
       "      <td>Michael Tiddes</td>\n",
       "      <td>R</td>\n",
       "      <td>80</td>\n",
       "      <td>2013-01-11 00:00:00</td>\n",
       "      <td>1</td>\n",
       "      <td>2500000</td>\n",
       "      <td>6.250000e+12</td>\n",
       "      <td>1.562500e+19</td>\n",
       "      <td>3.906250e+25</td>\n",
       "      <td>9.765625e+31</td>\n",
       "      <td>2.441406e+38</td>\n",
       "      <td>6.103516e+44</td>\n",
       "    </tr>\n",
       "    <tr>\n",
       "      <th>The Purge</th>\n",
       "      <td>1</td>\n",
       "      <td>3000000</td>\n",
       "      <td>64473115</td>\n",
       "      <td>James DeMonaco</td>\n",
       "      <td>R</td>\n",
       "      <td>85</td>\n",
       "      <td>2013-06-07 00:00:00</td>\n",
       "      <td>1</td>\n",
       "      <td>3000000</td>\n",
       "      <td>9.000000e+12</td>\n",
       "      <td>2.700000e+19</td>\n",
       "      <td>8.100000e+25</td>\n",
       "      <td>2.430000e+32</td>\n",
       "      <td>7.290000e+38</td>\n",
       "      <td>2.187000e+45</td>\n",
       "    </tr>\n",
       "    <tr>\n",
       "      <th>Dallas Buyers Club</th>\n",
       "      <td>1</td>\n",
       "      <td>5000000</td>\n",
       "      <td>27298285</td>\n",
       "      <td>Jean-Marc Vallee</td>\n",
       "      <td>R</td>\n",
       "      <td>117</td>\n",
       "      <td>2013-11-01 00:00:00</td>\n",
       "      <td>1</td>\n",
       "      <td>5000000</td>\n",
       "      <td>2.500000e+13</td>\n",
       "      <td>1.250000e+20</td>\n",
       "      <td>6.250000e+26</td>\n",
       "      <td>3.125000e+33</td>\n",
       "      <td>1.562500e+40</td>\n",
       "      <td>7.812500e+46</td>\n",
       "    </tr>\n",
       "    <tr>\n",
       "      <th>Insidious Chapter 2</th>\n",
       "      <td>1</td>\n",
       "      <td>5000000</td>\n",
       "      <td>83586447</td>\n",
       "      <td>James Wan</td>\n",
       "      <td>PG-13</td>\n",
       "      <td>105</td>\n",
       "      <td>2013-09-13 00:00:00</td>\n",
       "      <td>1</td>\n",
       "      <td>5000000</td>\n",
       "      <td>2.500000e+13</td>\n",
       "      <td>1.250000e+20</td>\n",
       "      <td>6.250000e+26</td>\n",
       "      <td>3.125000e+33</td>\n",
       "      <td>1.562500e+40</td>\n",
       "      <td>7.812500e+46</td>\n",
       "    </tr>\n",
       "    <tr>\n",
       "      <th>One Direction: This is Us</th>\n",
       "      <td>1</td>\n",
       "      <td>10000000</td>\n",
       "      <td>28873374</td>\n",
       "      <td>Morgan Spurlock</td>\n",
       "      <td>PG</td>\n",
       "      <td>92</td>\n",
       "      <td>2013-08-30 00:00:00</td>\n",
       "      <td>1</td>\n",
       "      <td>10000000</td>\n",
       "      <td>1.000000e+14</td>\n",
       "      <td>1.000000e+21</td>\n",
       "      <td>1.000000e+28</td>\n",
       "      <td>1.000000e+35</td>\n",
       "      <td>1.000000e+42</td>\n",
       "      <td>1.000000e+49</td>\n",
       "    </tr>\n",
       "  </tbody>\n",
       "</table>\n",
       "</div>"
      ],
      "text/plain": [
       "                           const    Budget  DomesticTotalGross  \\\n",
       "Title                                                            \n",
       "A Haunted House                1   2500000            40041683   \n",
       "The Purge                      1   3000000            64473115   \n",
       "Dallas Buyers Club             1   5000000            27298285   \n",
       "Insidious Chapter 2            1   5000000            83586447   \n",
       "One Direction: This is Us      1  10000000            28873374   \n",
       "\n",
       "                                   Director Rating  Runtime  \\\n",
       "Title                                                         \n",
       "A Haunted House              Michael Tiddes      R       80   \n",
       "The Purge                    James DeMonaco      R       85   \n",
       "Dallas Buyers Club         Jean-Marc Vallee      R      117   \n",
       "Insidious Chapter 2               James Wan  PG-13      105   \n",
       "One Direction: This is Us   Morgan Spurlock     PG       92   \n",
       "\n",
       "                                   ReleaseDate  0th       1th           2th  \\\n",
       "Title                                                                         \n",
       "A Haunted House            2013-01-11 00:00:00    1   2500000  6.250000e+12   \n",
       "The Purge                  2013-06-07 00:00:00    1   3000000  9.000000e+12   \n",
       "Dallas Buyers Club         2013-11-01 00:00:00    1   5000000  2.500000e+13   \n",
       "Insidious Chapter 2        2013-09-13 00:00:00    1   5000000  2.500000e+13   \n",
       "One Direction: This is Us  2013-08-30 00:00:00    1  10000000  1.000000e+14   \n",
       "\n",
       "                                    3th           4th           5th  \\\n",
       "Title                                                                 \n",
       "A Haunted House            1.562500e+19  3.906250e+25  9.765625e+31   \n",
       "The Purge                  2.700000e+19  8.100000e+25  2.430000e+32   \n",
       "Dallas Buyers Club         1.250000e+20  6.250000e+26  3.125000e+33   \n",
       "Insidious Chapter 2        1.250000e+20  6.250000e+26  3.125000e+33   \n",
       "One Direction: This is Us  1.000000e+21  1.000000e+28  1.000000e+35   \n",
       "\n",
       "                                    6th           7th  \n",
       "Title                                                  \n",
       "A Haunted House            2.441406e+38  6.103516e+44  \n",
       "The Purge                  7.290000e+38  2.187000e+45  \n",
       "Dallas Buyers Club         1.562500e+40  7.812500e+46  \n",
       "Insidious Chapter 2        1.562500e+40  7.812500e+46  \n",
       "One Direction: This is Us  1.000000e+42  1.000000e+49  "
      ]
     },
     "execution_count": 37,
     "metadata": {},
     "output_type": "execute_result"
    }
   ],
   "source": [
    "poly_train.head()"
   ]
  },
  {
   "cell_type": "markdown",
   "metadata": {
    "collapsed": false
   },
   "source": [
    "##### Challenge 5\n",
    "\n",
    "Fit a model to only the first 5 of your data points (m=5). Then to\n",
    "first 10 (m=10). Then to first 15 (m=15). In this manner, keep fitting\n",
    "until you fit your entire training set. For each step, calculate the\n",
    "training error and the test error. Plot both (in the same plot) over\n",
    "m. This is called a learning curve.\n",
    "\n"
   ]
  },
  {
   "cell_type": "markdown",
   "metadata": {},
   "source": [
    "#no idea. how do you compute error for test set? i think mse_resid is error for train set but im not even sure about that."
   ]
  }
 ],
 "metadata": {
  "kernelspec": {
   "display_name": "Python 2",
   "language": "python",
   "name": "python2"
  },
  "language_info": {
   "codemirror_mode": {
    "name": "ipython",
    "version": 2
   },
   "file_extension": ".py",
   "mimetype": "text/x-python",
   "name": "python",
   "nbconvert_exporter": "python",
   "pygments_lexer": "ipython2",
   "version": "2.7.9"
  }
 },
 "nbformat": 4,
 "nbformat_minor": 0
}
