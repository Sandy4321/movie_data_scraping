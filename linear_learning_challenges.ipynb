{
 "cells": [
  {
   "cell_type": "markdown",
   "metadata": {},
   "source": [
    "##### Challenge 1\n",
    "\n",
    "Fit a model to your data. Now you know the coefficients (the beta\n",
    "values).\n",
    "Write a python function to simulate outcomes.\n",
    "(The sigma of the normal noise distribution will be the std deviation\n",
    "of the residuals.)\n",
    "For the same observed input variables, simulate the outcome.\n",
    "Plot the observed data and the simulated data."
   ]
  },
  {
   "cell_type": "code",
   "execution_count": 404,
   "metadata": {
    "collapsed": true
   },
   "outputs": [],
   "source": [
    "import pandas as pd\n",
    "import numpy as np\n",
    "import matplotlib.pyplot as plt\n",
    "import statsmodels.formula.api as smf\n",
    "import statsmodels.api as sm\n",
    "import csv\n",
    "\n",
    "%matplotlib inline\n",
    "# import mpld3"
   ]
  },
  {
   "cell_type": "code",
   "execution_count": 405,
   "metadata": {
    "collapsed": true
   },
   "outputs": [],
   "source": [
    "df = pd.DataFrame.from_csv('2013_movies.csv', parse_dates=True, infer_datetime_format=True)"
   ]
  },
  {
   "cell_type": "code",
   "execution_count": 406,
   "metadata": {
    "collapsed": true
   },
   "outputs": [],
   "source": [
    "df = sm.add_constant(df)"
   ]
  },
  {
   "cell_type": "code",
   "execution_count": 407,
   "metadata": {
    "collapsed": false
   },
   "outputs": [
    {
     "data": {
      "text/plain": [
       "const                   int64\n",
       "Budget                float64\n",
       "DomesticTotalGross      int64\n",
       "Director               object\n",
       "Rating                 object\n",
       "Runtime                 int64\n",
       "ReleaseDate            object\n",
       "dtype: object"
      ]
     },
     "execution_count": 407,
     "metadata": {},
     "output_type": "execute_result"
    }
   ],
   "source": [
    "df.dtypes"
   ]
  },
  {
   "cell_type": "code",
   "execution_count": 408,
   "metadata": {
    "collapsed": false
   },
   "outputs": [],
   "source": [
    "df = df.convert_objects(convert_dates=True)"
   ]
  },
  {
   "cell_type": "code",
   "execution_count": 409,
   "metadata": {
    "collapsed": false
   },
   "outputs": [
    {
     "data": {
      "text/html": [
       "<table class=\"simpletable\">\n",
       "<caption>OLS Regression Results</caption>\n",
       "<tr>\n",
       "  <th>Dep. Variable:</th>    <td>DomesticTotalGross</td> <th>  R-squared:         </th> <td>   0.291</td>\n",
       "</tr>\n",
       "<tr>\n",
       "  <th>Model:</th>                    <td>OLS</td>        <th>  Adj. R-squared:    </th> <td>   0.274</td>\n",
       "</tr>\n",
       "<tr>\n",
       "  <th>Method:</th>              <td>Least Squares</td>   <th>  F-statistic:       </th> <td>   17.63</td>\n",
       "</tr>\n",
       "<tr>\n",
       "  <th>Date:</th>              <td>Sun, 03 May 2015</td>  <th>  Prob (F-statistic):</th> <td>3.83e-07</td>\n",
       "</tr>\n",
       "<tr>\n",
       "  <th>Time:</th>                  <td>07:53:45</td>      <th>  Log-Likelihood:    </th> <td> -1737.7</td>\n",
       "</tr>\n",
       "<tr>\n",
       "  <th>No. Observations:</th>       <td>    89</td>       <th>  AIC:               </th> <td>   3481.</td>\n",
       "</tr>\n",
       "<tr>\n",
       "  <th>Df Residuals:</th>           <td>    86</td>       <th>  BIC:               </th> <td>   3489.</td>\n",
       "</tr>\n",
       "<tr>\n",
       "  <th>Df Model:</th>               <td>     2</td>       <th>                     </th>     <td> </td>   \n",
       "</tr>\n",
       "<tr>\n",
       "  <th>Covariance Type:</th>       <td>nonrobust</td>     <th>                     </th>     <td> </td>   \n",
       "</tr>\n",
       "</table>\n",
       "<table class=\"simpletable\">\n",
       "<tr>\n",
       "      <td></td>         <th>coef</th>     <th>std err</th>      <th>t</th>      <th>P>|t|</th> <th>[95.0% Conf. Int.]</th> \n",
       "</tr>\n",
       "<tr>\n",
       "  <th>Intercept</th> <td> 5.731e+06</td> <td> 5.13e+07</td> <td>    0.112</td> <td> 0.911</td> <td>-9.62e+07  1.08e+08</td>\n",
       "</tr>\n",
       "<tr>\n",
       "  <th>Budget</th>    <td>    0.7456</td> <td>    0.142</td> <td>    5.237</td> <td> 0.000</td> <td>    0.463     1.029</td>\n",
       "</tr>\n",
       "<tr>\n",
       "  <th>Runtime</th>   <td> 3.695e+05</td> <td> 4.75e+05</td> <td>    0.778</td> <td> 0.439</td> <td>-5.74e+05  1.31e+06</td>\n",
       "</tr>\n",
       "</table>\n",
       "<table class=\"simpletable\">\n",
       "<tr>\n",
       "  <th>Omnibus:</th>       <td>40.192</td> <th>  Durbin-Watson:     </th> <td>   0.716</td>\n",
       "</tr>\n",
       "<tr>\n",
       "  <th>Prob(Omnibus):</th> <td> 0.000</td> <th>  Jarque-Bera (JB):  </th> <td> 101.831</td>\n",
       "</tr>\n",
       "<tr>\n",
       "  <th>Skew:</th>          <td> 1.600</td> <th>  Prob(JB):          </th> <td>7.72e-23</td>\n",
       "</tr>\n",
       "<tr>\n",
       "  <th>Kurtosis:</th>      <td> 7.149</td> <th>  Cond. No.          </th> <td>6.21e+08</td>\n",
       "</tr>\n",
       "</table>"
      ],
      "text/plain": [
       "<class 'statsmodels.iolib.summary.Summary'>\n",
       "\"\"\"\n",
       "                            OLS Regression Results                            \n",
       "==============================================================================\n",
       "Dep. Variable:     DomesticTotalGross   R-squared:                       0.291\n",
       "Model:                            OLS   Adj. R-squared:                  0.274\n",
       "Method:                 Least Squares   F-statistic:                     17.63\n",
       "Date:                Sun, 03 May 2015   Prob (F-statistic):           3.83e-07\n",
       "Time:                        07:53:45   Log-Likelihood:                -1737.7\n",
       "No. Observations:                  89   AIC:                             3481.\n",
       "Df Residuals:                      86   BIC:                             3489.\n",
       "Df Model:                           2                                         \n",
       "Covariance Type:            nonrobust                                         \n",
       "==============================================================================\n",
       "                 coef    std err          t      P>|t|      [95.0% Conf. Int.]\n",
       "------------------------------------------------------------------------------\n",
       "Intercept   5.731e+06   5.13e+07      0.112      0.911     -9.62e+07  1.08e+08\n",
       "Budget         0.7456      0.142      5.237      0.000         0.463     1.029\n",
       "Runtime     3.695e+05   4.75e+05      0.778      0.439     -5.74e+05  1.31e+06\n",
       "==============================================================================\n",
       "Omnibus:                       40.192   Durbin-Watson:                   0.716\n",
       "Prob(Omnibus):                  0.000   Jarque-Bera (JB):              101.831\n",
       "Skew:                           1.600   Prob(JB):                     7.72e-23\n",
       "Kurtosis:                       7.149   Cond. No.                     6.21e+08\n",
       "==============================================================================\n",
       "\n",
       "Warnings:\n",
       "[1] Standard Errors assume that the covariance matrix of the errors is correctly specified.\n",
       "[2] The condition number is large, 6.21e+08. This might indicate that there are\n",
       "strong multicollinearity or other numerical problems.\n",
       "\"\"\""
      ]
     },
     "execution_count": 409,
     "metadata": {},
     "output_type": "execute_result"
    }
   ],
   "source": [
    "model = smf.ols(\"DomesticTotalGross ~ Budget + Runtime\", data=df)\n",
    "fitted = model.fit()\n",
    "fitted.summary()"
   ]
  },
  {
   "cell_type": "code",
   "execution_count": 410,
   "metadata": {
    "collapsed": false
   },
   "outputs": [],
   "source": [
    "residuals_std_dev = np.std(fitted.resid)"
   ]
  },
  {
   "cell_type": "code",
   "execution_count": 411,
   "metadata": {
    "collapsed": false
   },
   "outputs": [],
   "source": [
    "from random import normalvariate\n",
    "\n",
    "def simulated_outcomes(df):\n",
    "    intercept = 5731000\n",
    "    noise = normalvariate(0, 475000)\n",
    "    df2 = df.copy()\n",
    "    df2['BudgetSim'] = df2.Budget.apply(lambda x: x*0.7456)\n",
    "    df2['RuntimeSim'] = df2.Runtime.apply(lambda x: x*369500)\n",
    "    df2['GrossSim'] = intercept + df2.BudgetSim + df2.RuntimeSim\n",
    "    df2['GrossSimResiduals'] = intercept + df2.BudgetSim + df2.RuntimeSim + normalvariate(0,residuals_std_dev)\n",
    "    df2['Noise'] = normalvariate(0, abs(df2.DomesticTotalGross - df2.GrossSim))\n",
    "    df2['NoiseyGrossSim'] = intercept + df2.BudgetSim + df2.RuntimeSim + df2.Noise\n",
    "    return df2"
   ]
  },
  {
   "cell_type": "code",
   "execution_count": 412,
   "metadata": {
    "collapsed": false
   },
   "outputs": [],
   "source": [
    "df3 = simulated_outcomes(df)"
   ]
  },
  {
   "cell_type": "code",
   "execution_count": 413,
   "metadata": {
    "collapsed": false
   },
   "outputs": [
    {
     "data": {
      "text/html": [
       "<div style=\"max-height:1000px;max-width:1500px;overflow:auto;\">\n",
       "<table border=\"1\" class=\"dataframe\">\n",
       "  <thead>\n",
       "    <tr style=\"text-align: right;\">\n",
       "      <th></th>\n",
       "      <th>const</th>\n",
       "      <th>Budget</th>\n",
       "      <th>DomesticTotalGross</th>\n",
       "      <th>Director</th>\n",
       "      <th>Rating</th>\n",
       "      <th>Runtime</th>\n",
       "      <th>ReleaseDate</th>\n",
       "      <th>BudgetSim</th>\n",
       "      <th>RuntimeSim</th>\n",
       "      <th>GrossSim</th>\n",
       "      <th>GrossSimResiduals</th>\n",
       "      <th>Noise</th>\n",
       "      <th>NoiseyGrossSim</th>\n",
       "    </tr>\n",
       "    <tr>\n",
       "      <th>Title</th>\n",
       "      <th></th>\n",
       "      <th></th>\n",
       "      <th></th>\n",
       "      <th></th>\n",
       "      <th></th>\n",
       "      <th></th>\n",
       "      <th></th>\n",
       "      <th></th>\n",
       "      <th></th>\n",
       "      <th></th>\n",
       "      <th></th>\n",
       "      <th></th>\n",
       "      <th></th>\n",
       "    </tr>\n",
       "  </thead>\n",
       "  <tbody>\n",
       "    <tr>\n",
       "      <th>The Hunger Games: Catching Fire</th>\n",
       "      <td>1</td>\n",
       "      <td>130000000</td>\n",
       "      <td>424668047</td>\n",
       "      <td>Francis Lawrence</td>\n",
       "      <td>PG-13</td>\n",
       "      <td>146</td>\n",
       "      <td>2013-11-22 00:00:00</td>\n",
       "      <td>96928000</td>\n",
       "      <td>53947000</td>\n",
       "      <td>156606000</td>\n",
       "      <td>1.852303e+08</td>\n",
       "      <td>18123851.478979</td>\n",
       "      <td>1.747299e+08</td>\n",
       "    </tr>\n",
       "    <tr>\n",
       "      <th>Iron Man 3</th>\n",
       "      <td>1</td>\n",
       "      <td>200000000</td>\n",
       "      <td>409013994</td>\n",
       "      <td>Shane Black</td>\n",
       "      <td>PG-13</td>\n",
       "      <td>129</td>\n",
       "      <td>2013-05-03 00:00:00</td>\n",
       "      <td>149120000</td>\n",
       "      <td>47665500</td>\n",
       "      <td>202516500</td>\n",
       "      <td>2.311408e+08</td>\n",
       "      <td>13961431.519015</td>\n",
       "      <td>2.164779e+08</td>\n",
       "    </tr>\n",
       "    <tr>\n",
       "      <th>Frozen</th>\n",
       "      <td>1</td>\n",
       "      <td>150000000</td>\n",
       "      <td>400738009</td>\n",
       "      <td>Chris BuckJennifer Lee</td>\n",
       "      <td>PG</td>\n",
       "      <td>108</td>\n",
       "      <td>2013-11-22 00:00:00</td>\n",
       "      <td>111840000</td>\n",
       "      <td>39906000</td>\n",
       "      <td>157477000</td>\n",
       "      <td>1.861013e+08</td>\n",
       "      <td>16447036.971789</td>\n",
       "      <td>1.739240e+08</td>\n",
       "    </tr>\n",
       "    <tr>\n",
       "      <th>Despicable Me 2</th>\n",
       "      <td>1</td>\n",
       "      <td>76000000</td>\n",
       "      <td>368061265</td>\n",
       "      <td>Pierre CoffinChris Renaud</td>\n",
       "      <td>PG</td>\n",
       "      <td>98</td>\n",
       "      <td>2013-07-03 00:00:00</td>\n",
       "      <td>56665600</td>\n",
       "      <td>36211000</td>\n",
       "      <td>98607600</td>\n",
       "      <td>1.272319e+08</td>\n",
       "      <td>18217939.688145</td>\n",
       "      <td>1.168255e+08</td>\n",
       "    </tr>\n",
       "    <tr>\n",
       "      <th>Man of Steel</th>\n",
       "      <td>1</td>\n",
       "      <td>225000000</td>\n",
       "      <td>291045518</td>\n",
       "      <td>Zack Snyder</td>\n",
       "      <td>PG-13</td>\n",
       "      <td>143</td>\n",
       "      <td>2013-06-14 00:00:00</td>\n",
       "      <td>167760000</td>\n",
       "      <td>52838500</td>\n",
       "      <td>226329500</td>\n",
       "      <td>2.549538e+08</td>\n",
       "      <td>4375492.583413</td>\n",
       "      <td>2.307050e+08</td>\n",
       "    </tr>\n",
       "  </tbody>\n",
       "</table>\n",
       "</div>"
      ],
      "text/plain": [
       "                                 const     Budget  DomesticTotalGross  \\\n",
       "Title                                                                   \n",
       "The Hunger Games: Catching Fire      1  130000000           424668047   \n",
       "Iron Man 3                           1  200000000           409013994   \n",
       "Frozen                               1  150000000           400738009   \n",
       "Despicable Me 2                      1   76000000           368061265   \n",
       "Man of Steel                         1  225000000           291045518   \n",
       "\n",
       "                                                  Director Rating  Runtime  \\\n",
       "Title                                                                        \n",
       "The Hunger Games: Catching Fire           Francis Lawrence  PG-13      146   \n",
       "Iron Man 3                                     Shane Black  PG-13      129   \n",
       "Frozen                              Chris BuckJennifer Lee     PG      108   \n",
       "Despicable Me 2                  Pierre CoffinChris Renaud     PG       98   \n",
       "Man of Steel                                   Zack Snyder  PG-13      143   \n",
       "\n",
       "                                         ReleaseDate  BudgetSim  RuntimeSim  \\\n",
       "Title                                                                         \n",
       "The Hunger Games: Catching Fire  2013-11-22 00:00:00   96928000    53947000   \n",
       "Iron Man 3                       2013-05-03 00:00:00  149120000    47665500   \n",
       "Frozen                           2013-11-22 00:00:00  111840000    39906000   \n",
       "Despicable Me 2                  2013-07-03 00:00:00   56665600    36211000   \n",
       "Man of Steel                     2013-06-14 00:00:00  167760000    52838500   \n",
       "\n",
       "                                  GrossSim  GrossSimResiduals  \\\n",
       "Title                                                           \n",
       "The Hunger Games: Catching Fire  156606000       1.852303e+08   \n",
       "Iron Man 3                       202516500       2.311408e+08   \n",
       "Frozen                           157477000       1.861013e+08   \n",
       "Despicable Me 2                   98607600       1.272319e+08   \n",
       "Man of Steel                     226329500       2.549538e+08   \n",
       "\n",
       "                                           Noise  NoiseyGrossSim  \n",
       "Title                                                             \n",
       "The Hunger Games: Catching Fire  18123851.478979    1.747299e+08  \n",
       "Iron Man 3                       13961431.519015    2.164779e+08  \n",
       "Frozen                           16447036.971789    1.739240e+08  \n",
       "Despicable Me 2                  18217939.688145    1.168255e+08  \n",
       "Man of Steel                      4375492.583413    2.307050e+08  "
      ]
     },
     "execution_count": 413,
     "metadata": {},
     "output_type": "execute_result"
    }
   ],
   "source": [
    "df3.head()"
   ]
  },
  {
   "cell_type": "code",
   "execution_count": 414,
   "metadata": {
    "collapsed": false
   },
   "outputs": [
    {
     "data": {
      "text/plain": [
       "<matplotlib.legend.Legend at 0x119958fd0>"
      ]
     },
     "execution_count": 414,
     "metadata": {},
     "output_type": "execute_result"
    },
    {
     "data": {
      "image/png": "[encoded data removed]",
      "text/plain": [
       "<matplotlib.figure.Figure at 0x1198bf150>"
      ]
     },
     "metadata": {},
     "output_type": "display_data"
    }
   ],
   "source": [
    "#plot of simulated with residuals as epsilon vs fitted vs actual\n",
    "plt.scatter(df3.BudgetSim, df3.GrossSimResiduals, color ='b')\n",
    "plt.scatter(df.Budget, df.DomesticTotalGross, color ='r')\n",
    "plt.plot(df.Budget.dropna(), fitted.fittedvalues, 'go')\n",
    "plt.legend(['Fitted', 'Simulated', 'Actual'])"
   ]
  },
  {
   "cell_type": "code",
   "execution_count": 415,
   "metadata": {
    "collapsed": false
   },
   "outputs": [
    {
     "data": {
      "text/plain": [
       "<matplotlib.collections.PathCollection at 0x1192adf50>"
      ]
     },
     "execution_count": 415,
     "metadata": {},
     "output_type": "execute_result"
    },
    {
     "data": {
      "image/png": "[encoded data removed]",
      "text/plain": [
       "<matplotlib.figure.Figure at 0x119890390>"
      ]
     },
     "metadata": {},
     "output_type": "display_data"
    }
   ],
   "source": [
    "#plot of simulated with and without epsilon\n",
    "plt.scatter(df3.BudgetSim, df3.GrossSimResiduals, color = 'g')\n",
    "plt.scatter(df3.BudgetSim, df3.GrossSim)"
   ]
  },
  {
   "cell_type": "code",
   "execution_count": 416,
   "metadata": {
    "collapsed": false
   },
   "outputs": [
    {
     "data": {
      "text/plain": [
       "<matplotlib.legend.Legend at 0x1191f0990>"
      ]
     },
     "execution_count": 416,
     "metadata": {},
     "output_type": "execute_result"
    },
    {
     "data": {
      "image/png": "[encoded data removed]",
      "text/plain": [
       "<matplotlib.figure.Figure at 0x1191f0510>"
      ]
     },
     "metadata": {},
     "output_type": "display_data"
    }
   ],
   "source": [
    "#plot of residuals for fitted\n",
    "plt.plot(df.Budget.dropna(), fitted.resid, 'mo')\n",
    "plt.legend(['residuals'])"
   ]
  },
  {
   "cell_type": "code",
   "execution_count": 417,
   "metadata": {
    "collapsed": false
   },
   "outputs": [
    {
     "data": {
      "text/plain": [
       "<matplotlib.collections.PathCollection at 0x118de3450>"
      ]
     },
     "execution_count": 417,
     "metadata": {},
     "output_type": "execute_result"
    },
    {
     "data": {
      "image/png": "[encoded data removed]",
      "text/plain": [
       "<matplotlib.figure.Figure at 0x119097e10>"
      ]
     },
     "metadata": {},
     "output_type": "display_data"
    }
   ],
   "source": [
    "#plot of nonsensical epsilon vs actual\n",
    "plt.scatter(df3.BudgetSim, df3.NoiseyGrossSim, color ='b')\n",
    "plt.scatter(df.Budget, df.DomesticTotalGross, color ='r')"
   ]
  },
  {
   "cell_type": "markdown",
   "metadata": {},
   "source": [
    "##### Challenge 2\n",
    "\n",
    "Generate (fake) data that is linearly related to log(x).\n",
    "Basically write an underlying model just like in challenge 1, but\n",
    "instead of a fitted model, you are making this model up. It is of the\n",
    "form B0 + B1log(x) + epsilon. You are making up the parameters.\n",
    "Simulate some data from this model.\n",
    "Then fit two models to it:\n",
    "a) quadratic [second degree polynomial]\n",
    "b) logarithmic [log(x)]\n",
    "(the second one should fit really well, since it has the same form as\n",
    "the underlying model!)"
   ]
  },
  {
   "cell_type": "code",
   "execution_count": 418,
   "metadata": {
    "collapsed": false
   },
   "outputs": [],
   "source": [
    "fake_data = pd.DataFrame({'X': np.linspace(1,100, 100)})"
   ]
  },
  {
   "cell_type": "code",
   "execution_count": 419,
   "metadata": {
    "collapsed": false
   },
   "outputs": [],
   "source": [
    "import math\n",
    "intercept = 5\n",
    "sigma = 10\n",
    "fake_data['y'] = fake_data.X.apply(lambda x: intercept + math.log(x) + normalvariate(0, sigma) )"
   ]
  },
  {
   "cell_type": "code",
   "execution_count": 420,
   "metadata": {
    "collapsed": false
   },
   "outputs": [],
   "source": [
    "fake_data = sm.add_constant(fake_data)"
   ]
  },
  {
   "cell_type": "code",
   "execution_count": 421,
   "metadata": {
    "collapsed": false
   },
   "outputs": [
    {
     "data": {
      "text/html": [
       "<div style=\"max-height:1000px;max-width:1500px;overflow:auto;\">\n",
       "<table border=\"1\" class=\"dataframe\">\n",
       "  <thead>\n",
       "    <tr style=\"text-align: right;\">\n",
       "      <th></th>\n",
       "      <th>const</th>\n",
       "      <th>X</th>\n",
       "      <th>y</th>\n",
       "    </tr>\n",
       "  </thead>\n",
       "  <tbody>\n",
       "    <tr>\n",
       "      <th>0</th>\n",
       "      <td>1</td>\n",
       "      <td>1</td>\n",
       "      <td>-1.454743</td>\n",
       "    </tr>\n",
       "    <tr>\n",
       "      <th>1</th>\n",
       "      <td>1</td>\n",
       "      <td>2</td>\n",
       "      <td>-9.162884</td>\n",
       "    </tr>\n",
       "    <tr>\n",
       "      <th>2</th>\n",
       "      <td>1</td>\n",
       "      <td>3</td>\n",
       "      <td>-9.489616</td>\n",
       "    </tr>\n",
       "    <tr>\n",
       "      <th>3</th>\n",
       "      <td>1</td>\n",
       "      <td>4</td>\n",
       "      <td>6.674329</td>\n",
       "    </tr>\n",
       "    <tr>\n",
       "      <th>4</th>\n",
       "      <td>1</td>\n",
       "      <td>5</td>\n",
       "      <td>12.516535</td>\n",
       "    </tr>\n",
       "  </tbody>\n",
       "</table>\n",
       "</div>"
      ],
      "text/plain": [
       "   const  X          y\n",
       "0      1  1  -1.454743\n",
       "1      1  2  -9.162884\n",
       "2      1  3  -9.489616\n",
       "3      1  4   6.674329\n",
       "4      1  5  12.516535"
      ]
     },
     "execution_count": 421,
     "metadata": {},
     "output_type": "execute_result"
    }
   ],
   "source": [
    "fake_data.head()"
   ]
  },
  {
   "cell_type": "code",
   "execution_count": 422,
   "metadata": {
    "collapsed": false
   },
   "outputs": [
    {
     "data": {
      "text/plain": [
       "<matplotlib.collections.PathCollection at 0x117c14710>"
      ]
     },
     "execution_count": 422,
     "metadata": {},
     "output_type": "execute_result"
    },
    {
     "data": {
      "image/png": "[encoded data removed]",
      "text/plain": [
       "<matplotlib.figure.Figure at 0x118ad7990>"
      ]
     },
     "metadata": {},
     "output_type": "display_data"
    }
   ],
   "source": [
    "plt.scatter(fake_data.X, fake_data.y)"
   ]
  },
  {
   "cell_type": "code",
   "execution_count": 423,
   "metadata": {
    "collapsed": true
   },
   "outputs": [],
   "source": [
    "model = sm.OLS(fake_data.y, fake_data.X).fit()"
   ]
  },
  {
   "cell_type": "code",
   "execution_count": 424,
   "metadata": {
    "collapsed": false
   },
   "outputs": [
    {
     "data": {
      "text/html": [
       "<table class=\"simpletable\">\n",
       "<caption>OLS Regression Results</caption>\n",
       "<tr>\n",
       "  <th>Dep. Variable:</th>            <td>y</td>        <th>  R-squared:         </th> <td>   0.385</td>\n",
       "</tr>\n",
       "<tr>\n",
       "  <th>Model:</th>                   <td>OLS</td>       <th>  Adj. R-squared:    </th> <td>   0.379</td>\n",
       "</tr>\n",
       "<tr>\n",
       "  <th>Method:</th>             <td>Least Squares</td>  <th>  F-statistic:       </th> <td>   62.01</td>\n",
       "</tr>\n",
       "<tr>\n",
       "  <th>Date:</th>             <td>Sun, 03 May 2015</td> <th>  Prob (F-statistic):</th> <td>4.45e-12</td>\n",
       "</tr>\n",
       "<tr>\n",
       "  <th>Time:</th>                 <td>07:53:50</td>     <th>  Log-Likelihood:    </th> <td> -384.89</td>\n",
       "</tr>\n",
       "<tr>\n",
       "  <th>No. Observations:</th>      <td>   100</td>      <th>  AIC:               </th> <td>   771.8</td>\n",
       "</tr>\n",
       "<tr>\n",
       "  <th>Df Residuals:</th>          <td>    99</td>      <th>  BIC:               </th> <td>   774.4</td>\n",
       "</tr>\n",
       "<tr>\n",
       "  <th>Df Model:</th>              <td>     1</td>      <th>                     </th>     <td> </td>   \n",
       "</tr>\n",
       "<tr>\n",
       "  <th>Covariance Type:</th>      <td>nonrobust</td>    <th>                     </th>     <td> </td>   \n",
       "</tr>\n",
       "</table>\n",
       "<table class=\"simpletable\">\n",
       "<tr>\n",
       "  <td></td>     <th>coef</th>     <th>std err</th>      <th>t</th>      <th>P>|t|</th> <th>[95.0% Conf. Int.]</th> \n",
       "</tr>\n",
       "<tr>\n",
       "  <th>X</th> <td>    0.1545</td> <td>    0.020</td> <td>    7.875</td> <td> 0.000</td> <td>    0.116     0.193</td>\n",
       "</tr>\n",
       "</table>\n",
       "<table class=\"simpletable\">\n",
       "<tr>\n",
       "  <th>Omnibus:</th>       <td> 0.183</td> <th>  Durbin-Watson:     </th> <td>   1.942</td>\n",
       "</tr>\n",
       "<tr>\n",
       "  <th>Prob(Omnibus):</th> <td> 0.912</td> <th>  Jarque-Bera (JB):  </th> <td>   0.022</td>\n",
       "</tr>\n",
       "<tr>\n",
       "  <th>Skew:</th>          <td>-0.031</td> <th>  Prob(JB):          </th> <td>   0.989</td>\n",
       "</tr>\n",
       "<tr>\n",
       "  <th>Kurtosis:</th>      <td> 3.039</td> <th>  Cond. No.          </th> <td>    1.00</td>\n",
       "</tr>\n",
       "</table>"
      ],
      "text/plain": [
       "<class 'statsmodels.iolib.summary.Summary'>\n",
       "\"\"\"\n",
       "                            OLS Regression Results                            \n",
       "==============================================================================\n",
       "Dep. Variable:                      y   R-squared:                       0.385\n",
       "Model:                            OLS   Adj. R-squared:                  0.379\n",
       "Method:                 Least Squares   F-statistic:                     62.01\n",
       "Date:                Sun, 03 May 2015   Prob (F-statistic):           4.45e-12\n",
       "Time:                        07:53:50   Log-Likelihood:                -384.89\n",
       "No. Observations:                 100   AIC:                             771.8\n",
       "Df Residuals:                      99   BIC:                             774.4\n",
       "Df Model:                           1                                         \n",
       "Covariance Type:            nonrobust                                         \n",
       "==============================================================================\n",
       "                 coef    std err          t      P>|t|      [95.0% Conf. Int.]\n",
       "------------------------------------------------------------------------------\n",
       "X              0.1545      0.020      7.875      0.000         0.116     0.193\n",
       "==============================================================================\n",
       "Omnibus:                        0.183   Durbin-Watson:                   1.942\n",
       "Prob(Omnibus):                  0.912   Jarque-Bera (JB):                0.022\n",
       "Skew:                          -0.031   Prob(JB):                        0.989\n",
       "Kurtosis:                       3.039   Cond. No.                         1.00\n",
       "==============================================================================\n",
       "\n",
       "Warnings:\n",
       "[1] Standard Errors assume that the covariance matrix of the errors is correctly specified.\n",
       "\"\"\""
      ]
     },
     "execution_count": 424,
     "metadata": {},
     "output_type": "execute_result"
    }
   ],
   "source": [
    "model.summary()"
   ]
  },
  {
   "cell_type": "code",
   "execution_count": 425,
   "metadata": {
    "collapsed": false
   },
   "outputs": [],
   "source": [
    "fake_data['quadratic'] = fake_data.X.apply(lambda x: 2 * x**2 + 3 * x + 4)\n",
    "fake_data['logarithmic'] = fake_data.X.apply(lambda x: math.log(x))"
   ]
  },
  {
   "cell_type": "code",
   "execution_count": 426,
   "metadata": {
    "collapsed": false
   },
   "outputs": [
    {
     "data": {
      "text/html": [
       "<div style=\"max-height:1000px;max-width:1500px;overflow:auto;\">\n",
       "<table border=\"1\" class=\"dataframe\">\n",
       "  <thead>\n",
       "    <tr style=\"text-align: right;\">\n",
       "      <th></th>\n",
       "      <th>const</th>\n",
       "      <th>X</th>\n",
       "      <th>y</th>\n",
       "      <th>quadratic</th>\n",
       "      <th>logarithmic</th>\n",
       "    </tr>\n",
       "  </thead>\n",
       "  <tbody>\n",
       "    <tr>\n",
       "      <th>0</th>\n",
       "      <td>1</td>\n",
       "      <td>1</td>\n",
       "      <td>-1.454743</td>\n",
       "      <td>9</td>\n",
       "      <td>0.000000</td>\n",
       "    </tr>\n",
       "    <tr>\n",
       "      <th>1</th>\n",
       "      <td>1</td>\n",
       "      <td>2</td>\n",
       "      <td>-9.162884</td>\n",
       "      <td>18</td>\n",
       "      <td>0.693147</td>\n",
       "    </tr>\n",
       "    <tr>\n",
       "      <th>2</th>\n",
       "      <td>1</td>\n",
       "      <td>3</td>\n",
       "      <td>-9.489616</td>\n",
       "      <td>31</td>\n",
       "      <td>1.098612</td>\n",
       "    </tr>\n",
       "    <tr>\n",
       "      <th>3</th>\n",
       "      <td>1</td>\n",
       "      <td>4</td>\n",
       "      <td>6.674329</td>\n",
       "      <td>48</td>\n",
       "      <td>1.386294</td>\n",
       "    </tr>\n",
       "    <tr>\n",
       "      <th>4</th>\n",
       "      <td>1</td>\n",
       "      <td>5</td>\n",
       "      <td>12.516535</td>\n",
       "      <td>69</td>\n",
       "      <td>1.609438</td>\n",
       "    </tr>\n",
       "  </tbody>\n",
       "</table>\n",
       "</div>"
      ],
      "text/plain": [
       "   const  X          y  quadratic  logarithmic\n",
       "0      1  1  -1.454743          9     0.000000\n",
       "1      1  2  -9.162884         18     0.693147\n",
       "2      1  3  -9.489616         31     1.098612\n",
       "3      1  4   6.674329         48     1.386294\n",
       "4      1  5  12.516535         69     1.609438"
      ]
     },
     "execution_count": 426,
     "metadata": {},
     "output_type": "execute_result"
    }
   ],
   "source": [
    "fake_data.head()"
   ]
  },
  {
   "cell_type": "code",
   "execution_count": 427,
   "metadata": {
    "collapsed": false
   },
   "outputs": [
    {
     "data": {
      "text/plain": [
       "(-15, 40)"
      ]
     },
     "execution_count": 427,
     "metadata": {},
     "output_type": "execute_result"
    },
    {
     "data": {
      "image/png": "[encoded data removed]",
      "text/plain": [
       "<matplotlib.figure.Figure at 0x118980550>"
      ]
     },
     "metadata": {},
     "output_type": "display_data"
    }
   ],
   "source": [
    "plt.scatter(fake_data.X, fake_data.y)\n",
    "plt.plot(fake_data.X, model.fittedvalues)\n",
    "plt.plot(fake_data.X, fake_data.quadratic)\n",
    "plt.plot(fake_data.X, fake_data.logarithmic, 'm')\n",
    "plt.ylim(-15,40)"
   ]
  },
  {
   "cell_type": "code",
   "execution_count": 428,
   "metadata": {
    "collapsed": false
   },
   "outputs": [
    {
     "data": {
      "text/plain": [
       "[<matplotlib.lines.Line2D at 0x118d328d0>]"
      ]
     },
     "execution_count": 428,
     "metadata": {},
     "output_type": "execute_result"
    },
    {
     "data": {
      "image/png": "[encoded data removed]",
      "text/plain": [
       "<matplotlib.figure.Figure at 0x118d32710>"
      ]
     },
     "metadata": {},
     "output_type": "display_data"
    }
   ],
   "source": [
    "plt.scatter(fake_data.X, fake_data.y)\n",
    "plt.plot(fake_data.X, model.fittedvalues)\n",
    "plt.plot(fake_data.X, fake_data.quadratic)\n",
    "plt.plot(fake_data.X, fake_data.logarithmic, 'm')"
   ]
  },
  {
   "cell_type": "markdown",
   "metadata": {},
   "source": [
    "##### Challenge 3\n",
    "\n",
    "Fit a model to your training set. Calculate mean squared error on your\n",
    "training set. Then calculate it on your test set.\n",
    "(You can use `sklearn.metrics.mean_squared_error`.)"
   ]
  },
  {
   "cell_type": "code",
   "execution_count": 444,
   "metadata": {
    "collapsed": true
   },
   "outputs": [],
   "source": [
    "from sklearn.cross_validation import train_test_split\n",
    "df_train, df_test = train_test_split(df.dropna(), test_size=0.33)"
   ]
  },
  {
   "cell_type": "code",
   "execution_count": 453,
   "metadata": {
    "collapsed": false
   },
   "outputs": [],
   "source": [
    "from sklearn.metrics import mean_squared_error\n",
    "model = sm.OLS(df_train.DomesticTotalGross, df_train.Budget).fit()"
   ]
  },
  {
   "cell_type": "code",
   "execution_count": 454,
   "metadata": {
    "collapsed": false
   },
   "outputs": [
    {
     "name": "stdout",
     "output_type": "stream",
     "text": [
      "Training mean squared error is 8.08427737851e+15\n"
     ]
    }
   ],
   "source": [
    "print(\"Training mean squared error is {0}\".format(mean_squared_error(df_train.DomesticTotalGross, model.fittedvalues)))"
   ]
  },
  {
   "cell_type": "code",
   "execution_count": 466,
   "metadata": {
    "collapsed": false
   },
   "outputs": [
    {
     "name": "stdout",
     "output_type": "stream",
     "text": [
      "Test mean squared error is 2.60245589895e+15\n"
     ]
    }
   ],
   "source": [
    "test_predict = model.predict(df_test.Budget)\n",
    "\n",
    "print(\"Test mean squared error is {0}\".format(mean_squared_error(df_test.DomesticTotalGross, test_predict)))"
   ]
  },
  {
   "cell_type": "markdown",
   "metadata": {},
   "source": [
    "##### Challenge 4\n",
    "\n",
    "For one continuous feature (like budget, choose one that strongly\n",
    "affects the outcome), try polynomial fits from 0th (just constant) to\n",
    "7th order (highest term x^7). Over the x axis of model degree (8\n",
    "points), plot:\n",
    "\n",
    " * training error\n",
    " * test error\n",
    " * R squared\n",
    " * AIC"
   ]
  },
  {
   "cell_type": "code",
   "execution_count": 473,
   "metadata": {
    "collapsed": true
   },
   "outputs": [],
   "source": [
    "polynomials = df.copy()\n",
    "poly_train, poly_test = train_test_split(polynomials.dropna(), test_size=0.25)"
   ]
  },
  {
   "cell_type": "code",
   "execution_count": 496,
   "metadata": {
    "collapsed": false
   },
   "outputs": [
    {
     "data": {
      "text/plain": [
       "<matplotlib.figure.Figure at 0x11b4eead0>"
      ]
     },
     "execution_count": 496,
     "metadata": {},
     "output_type": "execute_result"
    },
    {
     "data": {
      "image/png": "[encoded data removed]",
      "text/plain": [
       "<matplotlib.figure.Figure at 0x11b4e1d10>"
      ]
     },
     "metadata": {},
     "output_type": "display_data"
    }
   ],
   "source": [
    "poly_dict = {}\n",
    "poly_train = poly_train.sort('Budget')\n",
    "for i in range(8):\n",
    "    poly_train[str(i)+\"th\"] = poly_train['Budget'].apply(lambda x: x**i)\n",
    "    poly_dict[i] = sm.OLS(poly_train.DomesticTotalGross, poly_train[str(i)+\"th\"]).fit()\n",
    "    plt.plot(poly_dict[i].fittedvalues, poly_train.DomesticTotalGross)\n",
    "plt.Figure(figsize=(20,20))"
   ]
  },
  {
   "cell_type": "code",
   "execution_count": 485,
   "metadata": {
    "collapsed": false
   },
   "outputs": [
    {
     "data": {
      "text/html": [
       "<div style=\"max-height:1000px;max-width:1500px;overflow:auto;\">\n",
       "<table border=\"1\" class=\"dataframe\">\n",
       "  <thead>\n",
       "    <tr style=\"text-align: right;\">\n",
       "      <th></th>\n",
       "      <th>const</th>\n",
       "      <th>Budget</th>\n",
       "      <th>DomesticTotalGross</th>\n",
       "      <th>Director</th>\n",
       "      <th>Rating</th>\n",
       "      <th>Runtime</th>\n",
       "      <th>ReleaseDate</th>\n",
       "      <th>0th</th>\n",
       "      <th>1th</th>\n",
       "      <th>2th</th>\n",
       "      <th>3th</th>\n",
       "      <th>4th</th>\n",
       "      <th>5th</th>\n",
       "      <th>6th</th>\n",
       "      <th>7th</th>\n",
       "    </tr>\n",
       "    <tr>\n",
       "      <th>Title</th>\n",
       "      <th></th>\n",
       "      <th></th>\n",
       "      <th></th>\n",
       "      <th></th>\n",
       "      <th></th>\n",
       "      <th></th>\n",
       "      <th></th>\n",
       "      <th></th>\n",
       "      <th></th>\n",
       "      <th></th>\n",
       "      <th></th>\n",
       "      <th></th>\n",
       "      <th></th>\n",
       "      <th></th>\n",
       "      <th></th>\n",
       "    </tr>\n",
       "  </thead>\n",
       "  <tbody>\n",
       "    <tr>\n",
       "      <th>12 Years a Slave</th>\n",
       "      <td>1</td>\n",
       "      <td>20000000</td>\n",
       "      <td>56671993</td>\n",
       "      <td>Steve McQueen (II)</td>\n",
       "      <td>R</td>\n",
       "      <td>133</td>\n",
       "      <td>2013-10-18 00:00:00</td>\n",
       "      <td>1</td>\n",
       "      <td>20000000</td>\n",
       "      <td>4.000000e+14</td>\n",
       "      <td>8.000000e+21</td>\n",
       "      <td>1.600000e+29</td>\n",
       "      <td>3.200000e+36</td>\n",
       "      <td>6.400000e+43</td>\n",
       "      <td>1.280000e+51</td>\n",
       "    </tr>\n",
       "    <tr>\n",
       "      <th>2 Guns</th>\n",
       "      <td>1</td>\n",
       "      <td>61000000</td>\n",
       "      <td>75612460</td>\n",
       "      <td>Baltasar Kormakur</td>\n",
       "      <td>R</td>\n",
       "      <td>109</td>\n",
       "      <td>2013-08-02 00:00:00</td>\n",
       "      <td>1</td>\n",
       "      <td>61000000</td>\n",
       "      <td>3.721000e+15</td>\n",
       "      <td>2.269810e+23</td>\n",
       "      <td>1.384584e+31</td>\n",
       "      <td>8.445963e+38</td>\n",
       "      <td>5.152037e+46</td>\n",
       "      <td>3.142743e+54</td>\n",
       "    </tr>\n",
       "    <tr>\n",
       "      <th>42</th>\n",
       "      <td>1</td>\n",
       "      <td>40000000</td>\n",
       "      <td>95020213</td>\n",
       "      <td>Brian Helgeland</td>\n",
       "      <td>PG-13</td>\n",
       "      <td>128</td>\n",
       "      <td>2013-04-12 00:00:00</td>\n",
       "      <td>1</td>\n",
       "      <td>40000000</td>\n",
       "      <td>1.600000e+15</td>\n",
       "      <td>6.400000e+22</td>\n",
       "      <td>2.560000e+30</td>\n",
       "      <td>1.024000e+38</td>\n",
       "      <td>4.096000e+45</td>\n",
       "      <td>1.638400e+53</td>\n",
       "    </tr>\n",
       "    <tr>\n",
       "      <th>47 Ronin</th>\n",
       "      <td>1</td>\n",
       "      <td>175000000</td>\n",
       "      <td>38362475</td>\n",
       "      <td>Carl Rinsch</td>\n",
       "      <td>PG-13</td>\n",
       "      <td>127</td>\n",
       "      <td>2013-12-25 00:00:00</td>\n",
       "      <td>1</td>\n",
       "      <td>175000000</td>\n",
       "      <td>3.062500e+16</td>\n",
       "      <td>5.359375e+24</td>\n",
       "      <td>9.378906e+32</td>\n",
       "      <td>1.641309e+41</td>\n",
       "      <td>2.872290e+49</td>\n",
       "      <td>5.026508e+57</td>\n",
       "    </tr>\n",
       "    <tr>\n",
       "      <th>A Good Day to Die Hard</th>\n",
       "      <td>1</td>\n",
       "      <td>92000000</td>\n",
       "      <td>67349198</td>\n",
       "      <td>John Moore</td>\n",
       "      <td>R</td>\n",
       "      <td>97</td>\n",
       "      <td>2013-02-14 00:00:00</td>\n",
       "      <td>1</td>\n",
       "      <td>92000000</td>\n",
       "      <td>8.464000e+15</td>\n",
       "      <td>7.786880e+23</td>\n",
       "      <td>7.163930e+31</td>\n",
       "      <td>6.590815e+39</td>\n",
       "      <td>6.063550e+47</td>\n",
       "      <td>5.578466e+55</td>\n",
       "    </tr>\n",
       "  </tbody>\n",
       "</table>\n",
       "</div>"
      ],
      "text/plain": [
       "                        const     Budget  DomesticTotalGross  \\\n",
       "Title                                                          \n",
       "12 Years a Slave            1   20000000            56671993   \n",
       "2 Guns                      1   61000000            75612460   \n",
       "42                          1   40000000            95020213   \n",
       "47 Ronin                    1  175000000            38362475   \n",
       "A Good Day to Die Hard      1   92000000            67349198   \n",
       "\n",
       "                                  Director Rating  Runtime  \\\n",
       "Title                                                        \n",
       "12 Years a Slave        Steve McQueen (II)      R      133   \n",
       "2 Guns                   Baltasar Kormakur      R      109   \n",
       "42                         Brian Helgeland  PG-13      128   \n",
       "47 Ronin                       Carl Rinsch  PG-13      127   \n",
       "A Good Day to Die Hard          John Moore      R       97   \n",
       "\n",
       "                                ReleaseDate  0th        1th           2th  \\\n",
       "Title                                                                       \n",
       "12 Years a Slave        2013-10-18 00:00:00    1   20000000  4.000000e+14   \n",
       "2 Guns                  2013-08-02 00:00:00    1   61000000  3.721000e+15   \n",
       "42                      2013-04-12 00:00:00    1   40000000  1.600000e+15   \n",
       "47 Ronin                2013-12-25 00:00:00    1  175000000  3.062500e+16   \n",
       "A Good Day to Die Hard  2013-02-14 00:00:00    1   92000000  8.464000e+15   \n",
       "\n",
       "                                 3th           4th           5th  \\\n",
       "Title                                                              \n",
       "12 Years a Slave        8.000000e+21  1.600000e+29  3.200000e+36   \n",
       "2 Guns                  2.269810e+23  1.384584e+31  8.445963e+38   \n",
       "42                      6.400000e+22  2.560000e+30  1.024000e+38   \n",
       "47 Ronin                5.359375e+24  9.378906e+32  1.641309e+41   \n",
       "A Good Day to Die Hard  7.786880e+23  7.163930e+31  6.590815e+39   \n",
       "\n",
       "                                 6th           7th  \n",
       "Title                                               \n",
       "12 Years a Slave        6.400000e+43  1.280000e+51  \n",
       "2 Guns                  5.152037e+46  3.142743e+54  \n",
       "42                      4.096000e+45  1.638400e+53  \n",
       "47 Ronin                2.872290e+49  5.026508e+57  \n",
       "A Good Day to Die Hard  6.063550e+47  5.578466e+55  "
      ]
     },
     "execution_count": 485,
     "metadata": {},
     "output_type": "execute_result"
    }
   ],
   "source": [
    "poly_train.head()"
   ]
  },
  {
   "cell_type": "code",
   "execution_count": null,
   "metadata": {
    "collapsed": false
   },
   "outputs": [],
   "source": []
  }
 ],
 "metadata": {
  "kernelspec": {
   "display_name": "Python 2",
   "language": "python",
   "name": "python2"
  },
  "language_info": {
   "codemirror_mode": {
    "name": "ipython",
    "version": 2
   },
   "file_extension": ".py",
   "mimetype": "text/x-python",
   "name": "python",
   "nbconvert_exporter": "python",
   "pygments_lexer": "ipython2",
   "version": "2.7.9"
  }
 },
 "nbformat": 4,
 "nbformat_minor": 0
}
